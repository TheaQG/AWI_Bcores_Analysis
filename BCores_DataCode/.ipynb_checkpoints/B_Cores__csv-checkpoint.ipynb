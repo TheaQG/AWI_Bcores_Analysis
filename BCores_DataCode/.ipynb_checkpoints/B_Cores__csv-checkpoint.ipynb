{
 "cells": [
  {
   "cell_type": "code",
   "execution_count": 2,
   "metadata": {},
   "outputs": [],
   "source": [
    "import numpy as np\n",
    "import os\n",
    "import pandas as pd\n",
    "from pandas import ExcelWriter\n",
    "import matplotlib.pyplot as plt\n",
    "import openpyxl\n",
    "import matplotlib as mpl\n",
    "import scipy as sp\n",
    "from scipy import stats\n",
    "from scipy import signal\n",
    "from scipy import fft\n",
    "from scipy import io\n",
    "from scipy import interpolate\n",
    "from scipy import optimize\n",
    "from scipy import linalg\n",
    "from scipy import integrate\n",
    "from scipy.fft import dct\n",
    "\n",
    "mpl.rcParams['text.usetex'] = True\n",
    "mpl.rcParams['text.latex.preamble'] = [\n",
    "    r'\\usepackage{textcomp}',\n",
    "    r'\\usepackage{wasysym}']\n",
    "mpl.rcParams['mathtext.fontset'] = 'stix'\n",
    "mpl.rcParams['font.size'] = 22\n",
    "mpl.rcParams['font.family'] = 'STIXGeneral'\n",
    "\n",
    "from MEM_class import MEM\n",
    "\n",
    "from synthData_Gen import SyntheticData_Gen\n",
    "from Cores import Cores"
   ]
  },
  {
   "cell_type": "code",
   "execution_count": 46,
   "metadata": {},
   "outputs": [],
   "source": [
    "oldPath = '/home/thea/Desktop/MesterTesen/Data/datasets/B_cores_AWI/AWI_Bcores__Cleanded_xlsx/'\n",
    "newPath ='/home/thea/Documents/KUFysik/MesterTesen/Data/datasets/B_cores_AWI/AWI_Bcores__Cleaned_CSV/'"
   ]
  },
  {
   "cell_type": "code",
   "execution_count": 42,
   "metadata": {},
   "outputs": [],
   "source": [
    "from os import walk\n",
    "\n",
    "f = []\n",
    "for (dirpath, dirnames, filenames) in walk(oldPath):\n",
    "    f.extend(filenames)\n",
    "    #break\n"
   ]
  },
  {
   "cell_type": "code",
   "execution_count": 43,
   "metadata": {},
   "outputs": [],
   "source": [
    "def xlsx_to_txt(path, output_txt, input_xlsx, sheetNo):\n",
    "    \n",
    "\n",
    "    import xlrd\n",
    "    import csv\n",
    "\n",
    "    # open output .txt\n",
    "    with open(path + output_txt, 'w') as myTxtFile:\n",
    "        # define a writer wr\n",
    "        wr = csv.writer(myTxtFile, delimiter = '\\t')\n",
    "\n",
    "        # open input xlsx file\n",
    "        with xlrd.open_workbook(input_xlsx) as myXlsxFile:\n",
    "            # get wanted sheet\n",
    "            mysheet = myXlsxFile.sheet_by_index(sheetNo)\n",
    "            # write the rows to the output file\n",
    "            for rownum in range(mysheet.nrows):\n",
    "                wr.writerow(mysheet.row_values(rownum))\n",
    "                \n",
    "    return "
   ]
  },
  {
   "cell_type": "code",
   "execution_count": 63,
   "metadata": {},
   "outputs": [
    {
     "data": {
      "text/plain": [
       "'DepthDensity_Bcores_lowResAve'"
      ]
     },
     "execution_count": 63,
     "metadata": {},
     "output_type": "execute_result"
    }
   ],
   "source": [
    "f[1:5:3]\n",
    "'.'.join(f2[0].split('.')[:-1]) if '.' in f2[0] else f2[0]"
   ]
  },
  {
   "cell_type": "code",
   "execution_count": 67,
   "metadata": {},
   "outputs": [],
   "source": [
    "f2 = f[1:5:3]\n",
    "pd.ExcelFile(f2[0]).sheet_names\n",
    "\n",
    "outputNames = []\n",
    "for file in f2:\n",
    "    filename = '.'.join(file.split('.')[:-1]) if '.' in file else file\n",
    "    sheets = pd.ExcelFile(file).sheet_names\n",
    "    for s in range(len(sheets)):\n",
    "        filename_out = filename + sheets[s] + 'TEST.txt'\n",
    "        xlsx_to_txt(newPath, filename_out, file, s)"
   ]
  },
  {
   "cell_type": "code",
   "execution_count": 44,
   "metadata": {},
   "outputs": [
    {
     "data": {
      "text/plain": [
       "['B16',\n",
       " 'B17',\n",
       " 'B18',\n",
       " 'B19',\n",
       " 'B20',\n",
       " 'B21',\n",
       " 'B22',\n",
       " 'B23',\n",
       " 'B26',\n",
       " 'B27',\n",
       " 'B28',\n",
       " 'B29',\n",
       " 'B30']"
      ]
     },
     "execution_count": 44,
     "metadata": {},
     "output_type": "execute_result"
    }
   ],
   "source": [
    "#pd.ExcelFile(f[5]).sheet_names"
   ]
  },
  {
   "cell_type": "code",
   "execution_count": 47,
   "metadata": {},
   "outputs": [],
   "source": [
    "xlsx_to_txt(newPath,'test.txt', f[1], 2)"
   ]
  },
  {
   "cell_type": "code",
   "execution_count": 48,
   "metadata": {},
   "outputs": [
    {
     "data": {
      "text/html": [
       "<div>\n",
       "<style scoped>\n",
       "    .dataframe tbody tr th:only-of-type {\n",
       "        vertical-align: middle;\n",
       "    }\n",
       "\n",
       "    .dataframe tbody tr th {\n",
       "        vertical-align: top;\n",
       "    }\n",
       "\n",
       "    .dataframe thead th {\n",
       "        text-align: right;\n",
       "    }\n",
       "</style>\n",
       "<table border=\"1\" class=\"dataframe\">\n",
       "  <thead>\n",
       "    <tr style=\"text-align: right;\">\n",
       "      <th></th>\n",
       "      <th>iceDepth</th>\n",
       "      <th>density</th>\n",
       "      <th>STD</th>\n",
       "      <th>weDepth</th>\n",
       "      <th>N_Ave</th>\n",
       "    </tr>\n",
       "  </thead>\n",
       "  <tbody>\n",
       "    <tr>\n",
       "      <td>0</td>\n",
       "      <td>2.525000</td>\n",
       "      <td>341.572848</td>\n",
       "      <td>35.303570</td>\n",
       "      <td>0.835000</td>\n",
       "      <td>15.0</td>\n",
       "    </tr>\n",
       "    <tr>\n",
       "      <td>1</td>\n",
       "      <td>6.840000</td>\n",
       "      <td>402.068606</td>\n",
       "      <td>38.042828</td>\n",
       "      <td>2.410000</td>\n",
       "      <td>15.0</td>\n",
       "    </tr>\n",
       "    <tr>\n",
       "      <td>2</td>\n",
       "      <td>10.520000</td>\n",
       "      <td>463.332079</td>\n",
       "      <td>45.442920</td>\n",
       "      <td>3.980000</td>\n",
       "      <td>15.0</td>\n",
       "    </tr>\n",
       "    <tr>\n",
       "      <td>3</td>\n",
       "      <td>13.760000</td>\n",
       "      <td>514.652287</td>\n",
       "      <td>39.213486</td>\n",
       "      <td>5.550000</td>\n",
       "      <td>15.0</td>\n",
       "    </tr>\n",
       "    <tr>\n",
       "      <td>4</td>\n",
       "      <td>16.735000</td>\n",
       "      <td>545.754255</td>\n",
       "      <td>23.606326</td>\n",
       "      <td>7.125000</td>\n",
       "      <td>15.0</td>\n",
       "    </tr>\n",
       "    <tr>\n",
       "      <td>...</td>\n",
       "      <td>...</td>\n",
       "      <td>...</td>\n",
       "      <td>...</td>\n",
       "      <td>...</td>\n",
       "      <td>...</td>\n",
       "    </tr>\n",
       "    <tr>\n",
       "      <td>70</td>\n",
       "      <td>142.520000</td>\n",
       "      <td>901.010101</td>\n",
       "      <td>50.666409</td>\n",
       "      <td>109.125000</td>\n",
       "      <td>15.0</td>\n",
       "    </tr>\n",
       "    <tr>\n",
       "      <td>71</td>\n",
       "      <td>144.630000</td>\n",
       "      <td>840.277778</td>\n",
       "      <td>199.012891</td>\n",
       "      <td>110.630000</td>\n",
       "      <td>15.0</td>\n",
       "    </tr>\n",
       "    <tr>\n",
       "      <td>72</td>\n",
       "      <td>146.735000</td>\n",
       "      <td>899.494949</td>\n",
       "      <td>26.018681</td>\n",
       "      <td>112.135000</td>\n",
       "      <td>15.0</td>\n",
       "    </tr>\n",
       "    <tr>\n",
       "      <td>73</td>\n",
       "      <td>148.415000</td>\n",
       "      <td>888.888889</td>\n",
       "      <td>33.501261</td>\n",
       "      <td>113.640000</td>\n",
       "      <td>15.0</td>\n",
       "    </tr>\n",
       "    <tr>\n",
       "      <td>74</td>\n",
       "      <td>148.549061</td>\n",
       "      <td>910.037879</td>\n",
       "      <td>2.505446</td>\n",
       "      <td>113.742996</td>\n",
       "      <td>15.0</td>\n",
       "    </tr>\n",
       "  </tbody>\n",
       "</table>\n",
       "<p>75 rows × 5 columns</p>\n",
       "</div>"
      ],
      "text/plain": [
       "      iceDepth     density         STD     weDepth  N_Ave\n",
       "0     2.525000  341.572848   35.303570    0.835000   15.0\n",
       "1     6.840000  402.068606   38.042828    2.410000   15.0\n",
       "2    10.520000  463.332079   45.442920    3.980000   15.0\n",
       "3    13.760000  514.652287   39.213486    5.550000   15.0\n",
       "4    16.735000  545.754255   23.606326    7.125000   15.0\n",
       "..         ...         ...         ...         ...    ...\n",
       "70  142.520000  901.010101   50.666409  109.125000   15.0\n",
       "71  144.630000  840.277778  199.012891  110.630000   15.0\n",
       "72  146.735000  899.494949   26.018681  112.135000   15.0\n",
       "73  148.415000  888.888889   33.501261  113.640000   15.0\n",
       "74  148.549061  910.037879    2.505446  113.742996   15.0\n",
       "\n",
       "[75 rows x 5 columns]"
      ]
     },
     "execution_count": 48,
     "metadata": {},
     "output_type": "execute_result"
    }
   ],
   "source": [
    "data = pd.read_csv('test.txt', '\\t')\n",
    "data\n"
   ]
  },
  {
   "cell_type": "code",
   "execution_count": null,
   "metadata": {},
   "outputs": [],
   "source": []
  }
 ],
 "metadata": {
  "kernelspec": {
   "display_name": "Python 3",
   "language": "python",
   "name": "python3"
  },
  "language_info": {
   "codemirror_mode": {
    "name": "ipython",
    "version": 3
   },
   "file_extension": ".py",
   "mimetype": "text/x-python",
   "name": "python",
   "nbconvert_exporter": "python",
   "pygments_lexer": "ipython3",
   "version": "3.6.9"
  }
 },
 "nbformat": 4,
 "nbformat_minor": 2
}
