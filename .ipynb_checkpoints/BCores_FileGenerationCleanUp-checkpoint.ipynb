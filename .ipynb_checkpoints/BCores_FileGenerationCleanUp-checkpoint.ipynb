{
 "cells": [
  {
   "cell_type": "code",
   "execution_count": 1,
   "metadata": {},
   "outputs": [],
   "source": [
    "import numpy as np\n",
    "import pandas as pd\n",
    "import matplotlib.pyplot as plt\n",
    "from pandas import ExcelWriter\n",
    "import openpyxl\n",
    "\n",
    "#https://doi.pangaea.de/10.1594/PANGAEA.849161"
   ]
  },
  {
   "cell_type": "markdown",
   "metadata": {},
   "source": [
    "Defining function to calculate densities through ice depth and water equivalent data for B-cores."
   ]
  },
  {
   "cell_type": "code",
   "execution_count": 2,
   "metadata": {},
   "outputs": [],
   "source": [
    "def calc_dens(path, filename):\n",
    "    data = np.genfromtxt(path + filename, delimiter='\\t', skip_header=16, names=True, dtype={'names': ('Age [ka BP]', 'Age [a AD]', 'Depth ice/snow [m]', 'Depth w.e. top [m]', 'Acc rate ice [kg/m**2/a]', 'δ18O H2O [‰ SMOW]'),\n",
    "          'formats': (np.float, np.float, np.float, np.float, np.float, np.float)},)\n",
    "    names = data.dtype.names\n",
    "    \n",
    "    depthIce = data[names[2]]\n",
    "    depthWE = data[names[3]]\n",
    "    dens = depthWE / depthIce\n",
    "    return dens*1000, depthIce, depthWE"
   ]
  },
  {
   "cell_type": "code",
   "execution_count": 3,
   "metadata": {},
   "outputs": [],
   "source": [
    "dens = []\n",
    "\n",
    "path = \"../Data/datasets/B_cores_AWI/Densities/\"\n",
    "filenames_all = [\"B16_2_acc_rate_d18O.tab\", \"B17_2_acc_rate_d18O.tab\", \"B18_2_acc_rate_d18O.tab\", \"B19_2_acc_rate_d18O.tab\", \"B20_2_acc_rate_d18O.tab\", \"B21_2_acc_rate_d18O.tab\", \"B22_2_acc_rate_d18O.tab\",\n",
    "            \"B23_2_acc_rate_d18O.tab\", \"B26_2_acc_rate_d18O.tab\", \"B27_2_acc_rate_d18O.tab\", \"B28_3_acc_rate_d18O.tab\", \"B29_2_acc_rate_d18O.tab\", \"B30_2_acc_rate_d18O.tab\"]\n",
    "filenames = [\"B16_2_acc_rate_d18O.tab\", \"B17_2_acc_rate_d18O.tab\", \"B18_2_acc_rate_d18O.tab\", \"B21_2_acc_rate_d18O.tab\"]\n",
    "\n",
    "filenames_chosen = filenames_all\n",
    "\n",
    "for file in filenames_chosen:\n",
    "    dens.append(calc_dens(path, file))"
   ]
  },
  {
   "cell_type": "markdown",
   "metadata": {},
   "source": [
    "Loading d18O data and generating cleaned up files."
   ]
  },
  {
   "cell_type": "code",
   "execution_count": 6,
   "metadata": {},
   "outputs": [],
   "source": [
    "path = \"../Data/datasets/B_cores_AWI/\"\n",
    "filename = \"NGT_d18O_highres.xlsx\"\n",
    "\n",
    "NGT_d18O_highres_data = pd.read_excel(path + filename, sheet_name=None)"
   ]
  },
  {
   "cell_type": "code",
   "execution_count": null,
   "metadata": {},
   "outputs": [],
   "source": [
    "headers = list(NGT_d18O_highres_data.keys())\n",
    "\n",
    "df_B16_d18O = NGT_d18O_highres_data[headers[0]]\n",
    "df_B17_d18O = NGT_d18O_highres_data[headers[1]]\n",
    "df_B18_d18O = NGT_d18O_highres_data[headers[2]]\n",
    "df_B19_d18O = NGT_d18O_highres_data[headers[3]]\n",
    "df_B20_d18O = NGT_d18O_highres_data[headers[4]]\n",
    "df_B21_d18O = NGT_d18O_highres_data[headers[5]]\n",
    "df_B22_d18O = NGT_d18O_highres_data[headers[6]]\n",
    "df_B23_d18O = NGT_d18O_highres_data[headers[7]]\n",
    "df_B26_d18O = NGT_d18O_highres_data[headers[8]]\n",
    "df_B27_d18O = NGT_d18O_highres_data[headers[9]]\n",
    "df_B28_d18O = NGT_d18O_highres_data[headers[10]]\n",
    "df_B29_d18O = NGT_d18O_highres_data[headers[11]]\n",
    "df_B30_d18O = NGT_d18O_highres_data[headers[12]]"
   ]
  },
  {
   "cell_type": "code",
   "execution_count": null,
   "metadata": {},
   "outputs": [],
   "source": [
    "coreNames_d18O = ['B16', 'B17', 'B18', 'B19', 'B20', 'B21', 'B22', 'B23', 'B26', 'B27', 'B28', 'B29', 'B30']\n",
    "\n",
    "f_d18O_save = 'Depth_d18O__Bcores.xlsx'\n",
    "writer = pd.ExcelWriter(f_d18O_save, engine='xlsxwriter')\n",
    "writer.save()\n",
    "\n",
    "df16_d18O = pd.DataFrame({'depth': df_B16_d18O[df_B16_d18O.keys()[0]], 'd18O': df_B16_d18O[df_B16_d18O.keys()[2]]})\n",
    "writer = pd.ExcelWriter(f_d18O_save, engine='openpyxl')\n",
    "df16_d18O.to_excel(writer, sheet_name=coreNames_d18O[0], index=False)\n",
    "writer.save()\n",
    "\n",
    "df17_d18O = pd.DataFrame({'depth': df_B17_d18O[df_B17_d18O.keys()[0]], 'd18O': df_B17_d18O[df_B17_d18O.keys()[2]]})\n",
    "df18_d18O = pd.DataFrame({'depth': df_B18_d18O[df_B18_d18O.keys()[1]], 'd18O': df_B18_d18O[df_B18_d18O.keys()[3]]})\n",
    "df19_d18O = pd.DataFrame({'depth': df_B19_d18O[df_B19_d18O.keys()[0]], 'd18O': df_B19_d18O[df_B19_d18O.keys()[2]]})\n",
    "df20_d18O = pd.DataFrame({'depth': df_B20_d18O[df_B20_d18O.keys()[1]], 'd18O': df_B20_d18O[df_B20_d18O.keys()[3]]})\n",
    "df21_d18O = pd.DataFrame({'depth': df_B21_d18O[df_B21_d18O.keys()[0]], 'd18O': df_B21_d18O[df_B21_d18O.keys()[2]]})\n",
    "df22_d18O = pd.DataFrame({'depth': df_B22_d18O[df_B22_d18O.keys()[0]], 'd18O': df_B22_d18O[df_B22_d18O.keys()[2]]})\n",
    "df23_d18O = pd.DataFrame({'depth': df_B23_d18O[df_B23_d18O.keys()[0]], 'd18O': df_B23_d18O[df_B23_d18O.keys()[2]]})\n",
    "df26_d18O = pd.DataFrame({'depth': df_B26_d18O[df_B26_d18O.keys()[0]], 'd18O': df_B26_d18O[df_B26_d18O.keys()[2]]})\n",
    "df27_d18O = pd.DataFrame({'depth': df_B27_d18O[df_B27_d18O.keys()[0]], 'd18O': df_B27_d18O[df_B27_d18O.keys()[1]]})\n",
    "df28_d18O = pd.DataFrame({'depth': df_B28_d18O[df_B28_d18O.keys()[0]], 'd18O': df_B28_d18O[df_B28_d18O.keys()[2]]})\n",
    "df29_d18O = pd.DataFrame({'depth': df_B29_d18O[df_B29_d18O.keys()[0]], 'd18O': df_B29_d18O[df_B29_d18O.keys()[2]]})\n",
    "df30_d18O = pd.DataFrame({'depth': df_B30_d18O[df_B30_d18O.keys()[0]], 'd18O': df_B30_d18O[df_B30_d18O.keys()[2]]})\n",
    "\n",
    "with pd.ExcelWriter(f_d18O_save, engine='openpyxl', mode='a') as writer:\n",
    "    df17_d18O.to_excel(writer, sheet_name=coreNames_d18O[1], index=False)\n",
    "    df18_d18O.to_excel(writer, sheet_name=coreNames_d18O[2], index=False)\n",
    "    df19_d18O.to_excel(writer, sheet_name=coreNames_d18O[3], index=False)\n",
    "    df20_d18O.to_excel(writer, sheet_name=coreNames_d18O[4], index=False)\n",
    "    df21_d18O.to_excel(writer, sheet_name=coreNames_d18O[5], index=False)\n",
    "    df22_d18O.to_excel(writer, sheet_name=coreNames_d18O[6], index=False)\n",
    "    df23_d18O.to_excel(writer, sheet_name=coreNames_d18O[7], index=False)\n",
    "    df26_d18O.to_excel(writer, sheet_name=coreNames_d18O[8], index=False)\n",
    "    df27_d18O.to_excel(writer, sheet_name=coreNames_d18O[9], index=False)\n",
    "    df28_d18O.to_excel(writer, sheet_name=coreNames_d18O[10], index=False)\n",
    "    df29_d18O.to_excel(writer, sheet_name=coreNames_d18O[11], index=False)\n",
    "    df30_d18O.to_excel(writer, sheet_name=coreNames_d18O[12], index=False)\n"
   ]
  },
  {
   "cell_type": "markdown",
   "metadata": {},
   "source": [
    "Generating files with ice depth and density for all B cores."
   ]
  },
  {
   "cell_type": "code",
   "execution_count": 6,
   "metadata": {},
   "outputs": [],
   "source": [
    "f_save = 'DepthDensity_Bcores_lowRes.xlsx'\n",
    "writer = pd.ExcelWriter(f_save, engine='xlsxwriter')\n",
    "writer.save()\n",
    "\n",
    "df = pd.DataFrame({'iceDepth': dens[0][1], 'density': dens[0][0], 'weDepth': dens[0][2]})\n",
    "writer = pd.ExcelWriter(f_save, engine='openpyxl')\n",
    "df.to_excel(writer, sheet_name=coreNames_chosen[0], index=False)\n",
    "writer.save()\n",
    "\n",
    "for i in range(1, len(filenames_chosen)):\n",
    "    df = pd.DataFrame({'iceDepth': dens[i][1], 'density': dens[i][0], 'weDepth': dens[i][2]})\n",
    "    writer = pd.ExcelWriter(f_save, engine='openpyxl', mode='a')\n",
    "    df.to_excel(writer, sheet_name=coreNames_chosen[i], index=False)\n",
    "    writer.save()"
   ]
  },
  {
   "cell_type": "markdown",
   "metadata": {},
   "source": [
    "Loading ECM, DEP and chem data for B-cores."
   ]
  },
  {
   "cell_type": "code",
   "execution_count": 7,
   "metadata": {},
   "outputs": [],
   "source": [
    "path2 = \"../Data/datasets/B_cores_AWI/\"\n",
    "filename2 = \"chemistry_conductivity_NGT93_95_all.xlsx\"\n",
    "\n",
    "B_Cores_chem_cond__data = pd.read_excel(path2 + filename2, sheet_name=None)\n",
    "\n",
    "headers2 = list(B_Cores_chem_cond__data.keys())\n",
    "\n",
    "df_B16_chem = B_Cores_chem_cond__data[headers2[0]]\n",
    "df_B16_ECM = B_Cores_chem_cond__data[headers2[1]]\n",
    "df_B17_DEP = B_Cores_chem_cond__data[headers2[2]]\n",
    "df_B18_chem = B_Cores_chem_cond__data[headers2[3]]\n",
    "df_B18_DEP = B_Cores_chem_cond__data[headers2[4]]\n",
    "df_B18_ECM = B_Cores_chem_cond__data[headers2[5]]\n",
    "df_B19_DEP = B_Cores_chem_cond__data[headers2[6]]\n",
    "df_B20_DEP = B_Cores_chem_cond__data[headers2[7]]\n",
    "df_B21_ECM = B_Cores_chem_cond__data[headers2[8]]\n",
    "df_B21_chem = B_Cores_chem_cond__data[headers2[9]]\n",
    "df_B22_DEP = B_Cores_chem_cond__data[headers2[10]]\n",
    "df_B23_DEP = B_Cores_chem_cond__data[headers2[11]]\n",
    "df_B26_DEP = B_Cores_chem_cond__data[headers2[12]]\n",
    "df_B27_DEP = B_Cores_chem_cond__data[headers2[13]]\n",
    "df_B28_DEP = B_Cores_chem_cond__data[headers2[14]]\n",
    "df_B29_chem = B_Cores_chem_cond__data[headers2[15]]"
   ]
  },
  {
   "cell_type": "markdown",
   "metadata": {},
   "source": [
    "Generating files with depth and ECM data."
   ]
  },
  {
   "cell_type": "code",
   "execution_count": 9,
   "metadata": {},
   "outputs": [],
   "source": [
    "coreNames_ECM = ['B16', 'B18', 'B21']\n",
    "\n",
    "f_ECM_save = 'DepthECM__B16_B18_B21.xlsx'\n",
    "writer = pd.ExcelWriter(f_ECM_save, engine='xlsxwriter')\n",
    "writer.save()\n",
    "\n",
    "df16 = pd.DataFrame({'depth': df_B16_ECM[df_B16_ECM.keys()[0]], 'ECM': df_B16_ECM[df_B16_ECM.keys()[-1]]})\n",
    "writer = pd.ExcelWriter(f_ECM_save, engine='openpyxl')\n",
    "df16.to_excel(writer, sheet_name=coreNames_ECM[0], index=False)\n",
    "writer.save()\n",
    "\n",
    "df18 = pd.DataFrame({'depth': df_B18_ECM[df_B18_ECM.keys()[1]], 'ECM': df_B18_ECM[df_B18_ECM.keys()[0]]})\n",
    "df21 = pd.DataFrame({'depth': df_B21_ECM[df_B21_ECM.keys()[5]], 'ECM': df_B21_ECM[df_B21_ECM.keys()[-1]]})\n",
    "\n",
    "with pd.ExcelWriter(f_ECM_save, engine='openpyxl', mode='a') as writer:\n",
    "    df18.to_excel(writer, sheet_name=coreNames_ECM[1], index=False)\n",
    "    df21.to_excel(writer, sheet_name=coreNames_ECM[2], index=False)"
   ]
  },
  {
   "cell_type": "markdown",
   "metadata": {},
   "source": [
    "Generating files with depth and DEP data"
   ]
  },
  {
   "cell_type": "code",
   "execution_count": 92,
   "metadata": {},
   "outputs": [],
   "source": [
    "coreNames_DEP = ['B17', 'B18', 'B19', 'B20', 'B22', 'B23', 'B26', 'B27', 'B28']\n",
    "\n",
    "f_DEP_save = 'DepthDEP__Bcores.xlsx'\n",
    "writer = pd.ExcelWriter(f_DEP_save, engine='xlsxwriter')\n",
    "writer.save()\n",
    "\n",
    "df17_DEP = pd.DataFrame({'depth': df_B17_DEP[df_B17_DEP.keys()[0]], 'g_250k': df_B17_DEP[df_B17_DEP.keys()[1]], 'cp_250k': df_B17_DEP[df_B17_DEP.keys()[2]]})\n",
    "writer = pd.ExcelWriter(f_DEP_save, engine='openpyxl')\n",
    "df17_DEP.to_excel(writer, sheet_name=coreNames_DEP[0], index=False)\n",
    "writer.save()\n",
    "\n",
    "df18_DEP = pd.DataFrame({'depth': df_B18_DEP[df_B18_DEP.keys()[4]], 'g_250k': df_B18_DEP[df_B18_DEP.keys()[5]], 'cp_250k': df_B18_DEP[df_B18_DEP.keys()[6]]})\n",
    "df19_DEP = pd.DataFrame({'depth': df_B19_DEP[df_B19_DEP.keys()[0]], 'g_250k': df_B19_DEP[df_B19_DEP.keys()[1]], 'cp_250k': df_B19_DEP[df_B19_DEP.keys()[2]]})\n",
    "df20_DEP = pd.DataFrame({'depth': df_B20_DEP[df_B20_DEP.keys()[0]], 'dens': df_B20_DEP[df_B20_DEP.keys()[1]], 'cond': df_B20_DEP[df_B20_DEP.keys()[2]]})\n",
    "df22_DEP = pd.DataFrame({'depth': df_B22_DEP[df_B22_DEP.keys()[0]], 'dens': df_B22_DEP[df_B22_DEP.keys()[1]], 'cond': df_B22_DEP[df_B22_DEP.keys()[2]]})\n",
    "df23_DEP = pd.DataFrame({'depth': df_B23_DEP[df_B23_DEP.keys()[0]], 'dens': df_B23_DEP[df_B23_DEP.keys()[1]], 'cond': df_B23_DEP[df_B23_DEP.keys()[2]]})\n",
    "df26_DEP = pd.DataFrame({'depth': df_B26_DEP[df_B26_DEP.keys()[1]], 'sig_250k': df_B26_DEP[df_B26_DEP.keys()[2]]})\n",
    "df27_DEP = pd.DataFrame({'depth': df_B27_DEP[df_B27_DEP.keys()[0]], 'sig_250k': df_B27_DEP[df_B27_DEP.keys()[1]]})\n",
    "df28_DEP = pd.DataFrame({'depth': df_B28_DEP[df_B28_DEP.keys()[0]], 'sig_250k': df_B28_DEP[df_B28_DEP.keys()[1]]})\n",
    "\n",
    "\n",
    "with pd.ExcelWriter(f_DEP_save, engine='openpyxl', mode='a') as writer:\n",
    "    df18_DEP.to_excel(writer, sheet_name=coreNames_DEP[1], index=False)\n",
    "    df19_DEP.to_excel(writer, sheet_name=coreNames_DEP[2], index=False)\n",
    "    df20_DEP.to_excel(writer, sheet_name=coreNames_DEP[3], index=False)\n",
    "    df22_DEP.to_excel(writer, sheet_name=coreNames_DEP[4], index=False)\n",
    "    df23_DEP.to_excel(writer, sheet_name=coreNames_DEP[5], index=False)\n",
    "    df26_DEP.to_excel(writer, sheet_name=coreNames_DEP[6], index=False)\n",
    "    df27_DEP.to_excel(writer, sheet_name=coreNames_DEP[7], index=False)\n",
    "    df28_DEP.to_excel(writer, sheet_name=coreNames_DEP[8], index=False)\n"
   ]
  },
  {
   "cell_type": "markdown",
   "metadata": {},
   "source": [
    "Generating files with depth and chemical measurements"
   ]
  },
  {
   "cell_type": "code",
   "execution_count": 13,
   "metadata": {},
   "outputs": [],
   "source": [
    "coreNames_chem = ['B16', 'B18', 'B21', 'B29']\n",
    "\n",
    "f_chem_save = 'DepthChem__B16_B18_B21_B29.xlsx'\n",
    "writer = pd.ExcelWriter(f_chem_save, engine='xlsxwriter')\n",
    "writer.save()\n",
    "\n",
    "df16_chem = pd.DataFrame({'depth': df_B16_chem[df_B16_chem.keys()[0]], 'MSA': df_B16_chem[df_B16_chem.keys()[3]], 'Cl': df_B16_chem[df_B16_chem.keys()[4]],\n",
    "                        'Clx': df_B16_chem[df_B16_chem.keys()[5]], 'Br': df_B16_chem[df_B16_chem.keys()[6]], 'NO3': df_B16_chem[df_B16_chem.keys()[7]],\n",
    "                        'SO4': df_B16_chem[df_B16_chem.keys()[8]], 'SO4nss': df_B16_chem[df_B16_chem.keys()[9]], 'Na': df_B16_chem[df_B16_chem.keys()[10]],\n",
    "                        'NH4': df_B16_chem[df_B16_chem.keys()[11]], 'K': df_B16_chem[df_B16_chem.keys()[12]], 'Mg': df_B16_chem[df_B16_chem.keys()[13]],\n",
    "                        'Ca': df_B16_chem[df_B16_chem.keys()[14]], 'conductivity': df_B16_chem[df_B16_chem.keys()[18]], 'pH': df_B16_chem[df_B16_chem.keys()[17]]})\n",
    "writer = pd.ExcelWriter(f_chem_save, engine='openpyxl')\n",
    "df16_chem.to_excel(writer, sheet_name=coreNames_chem[0], index=False)\n",
    "writer.save()\n",
    "\n",
    "df18_chem = pd.DataFrame({'depth': df_B18_chem[df_B18_chem.keys()[0]], 'MSA': df_B18_chem[df_B18_chem.keys()[4]], 'Cl': df_B18_chem[df_B18_chem.keys()[5]],\n",
    "                        'Clx': df_B18_chem[df_B18_chem.keys()[6]], 'Br': df_B18_chem[df_B18_chem.keys()[7]], 'NO3': df_B18_chem[df_B18_chem.keys()[8]],\n",
    "                        'SO4': df_B18_chem[df_B18_chem.keys()[9]], 'SO4nss': df_B18_chem[df_B18_chem.keys()[10]], 'Na': df_B18_chem[df_B18_chem.keys()[11]],\n",
    "                        'NH4': df_B18_chem[df_B18_chem.keys()[12]], 'K': df_B18_chem[df_B18_chem.keys()[13]], 'Mg': df_B18_chem[df_B18_chem.keys()[14]],\n",
    "                        'Ca': df_B18_chem[df_B18_chem.keys()[15]], 'F': df_B18_chem[df_B18_chem.keys()[16]]})\n",
    "df21_chem = pd.DataFrame({'depth': df_B21_chem[df_B21_chem.keys()[0]], 'MSA': df_B21_chem[df_B21_chem.keys()[4]], 'Cl': df_B21_chem[df_B21_chem.keys()[5]],\n",
    "                        'Clx': df_B21_chem[df_B21_chem.keys()[6]], 'Br': df_B21_chem[df_B21_chem.keys()[7]], 'NO3': df_B21_chem[df_B21_chem.keys()[8]],\n",
    "                        'SO4': df_B21_chem[df_B21_chem.keys()[9]], 'SO4nss': df_B21_chem[df_B21_chem.keys()[10]], 'Na': df_B21_chem[df_B21_chem.keys()[11]],\n",
    "                        'NH4': df_B21_chem[df_B21_chem.keys()[12]], 'K': df_B21_chem[df_B21_chem.keys()[13]], 'Mg': df_B21_chem[df_B21_chem.keys()[14]],\n",
    "                        'Ca': df_B21_chem[df_B21_chem.keys()[15]], 'F': df_B21_chem[df_B21_chem.keys()[16]], 'pH': df_B21_chem[df_B21_chem.keys()[17]]})\n",
    "df29_chem = pd.DataFrame({'depth': df_B29_chem[df_B29_chem.keys()[0]], 'Ca': df_B29_chem[df_B29_chem.keys()[1]], 'NH4': df_B29_chem[df_B29_chem.keys()[3]],\n",
    "                        'CH2O': df_B29_chem[df_B29_chem.keys()[5]], 'H2O2': df_B29_chem[df_B29_chem.keys()[7]], 'density': df_B29_chem[df_B29_chem.keys()[11]],\n",
    "                        'accumulation': df_B29_chem[df_B29_chem.keys()[1]]})\n",
    "\n",
    "with pd.ExcelWriter(f_chem_save, engine='openpyxl', mode='a') as writer:\n",
    "    df18_chem.to_excel(writer, sheet_name=coreNames_chem[1], index=False)\n",
    "    df21_chem.to_excel(writer, sheet_name=coreNames_chem[2], index=False)\n",
    "    df29_chem.to_excel(writer, sheet_name=coreNames_chem[3], index=False)"
   ]
  },
  {
   "cell_type": "code",
   "execution_count": null,
   "metadata": {},
   "outputs": [],
   "source": []
  }
 ],
 "metadata": {
  "kernelspec": {
   "display_name": "Python 3",
   "language": "python",
   "name": "python3"
  },
  "language_info": {
   "codemirror_mode": {
    "name": "ipython",
    "version": 3
   },
   "file_extension": ".py",
   "mimetype": "text/x-python",
   "name": "python",
   "nbconvert_exporter": "python",
   "pygments_lexer": "ipython3",
   "version": "3.6.9"
  }
 },
 "nbformat": 4,
 "nbformat_minor": 2
}
