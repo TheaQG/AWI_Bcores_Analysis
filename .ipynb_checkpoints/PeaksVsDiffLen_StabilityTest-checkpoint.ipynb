{
 "cells": [
  {
   "cell_type": "code",
   "execution_count": 1,
   "metadata": {},
   "outputs": [],
   "source": [
    "import numpy as np\n",
    "import os\n",
    "import pandas as pd\n",
    "from pandas import ExcelWriter\n",
    "import matplotlib.pyplot as plt\n",
    "import openpyxl\n",
    "import matplotlib as mpl\n",
    "\n",
    "mpl.rcParams['text.usetex'] = True\n",
    "mpl.rcParams['text.latex.preamble'] = [\n",
    "    r'\\usepackage{textcomp}',\n",
    "    r'\\usepackage{wasysym}']\n",
    "mpl.rcParams['mathtext.fontset'] = 'stix'\n",
    "mpl.rcParams['font.size'] = 22\n",
    "mpl.rcParams['font.family'] = 'STIXGeneral'\n",
    "\n",
    "saveFigs = False"
   ]
  },
  {
   "cell_type": "code",
   "execution_count": 2,
   "metadata": {},
   "outputs": [],
   "source": [
    "import sys \n",
    "sys.path.append('../')\n",
    "\n",
    "from BackDiffuse_LT import BackDiffuse\n",
    "from GetCoreData_fct import GetCoreData\n",
    "from ExtFunctions import interpCores"
   ]
  },
  {
   "cell_type": "code",
   "execution_count": 4,
   "metadata": {},
   "outputs": [],
   "source": [
    "site = 'SiteB'\n",
    "\n",
    "CoresSpecs = pd.read_csv('/home/thea/Documents/KUFysik/MesterTesen/Data/CoreSpecs.txt', ',')\n",
    "\n",
    "coreNames = CoresSpecs['CoreName']\n",
    "\n",
    "core_idx = coreNames[CoresSpecs['CoreName'] == site].index[0]\n",
    "CoreSpecs = CoresSpecs.iloc[core_idx]\n",
    "dTamb = CoreSpecs['dTamb']\n",
    "dLaki = CoreSpecs['dLaki']\n",
    "\n",
    "\n",
    "DataAll = GetCoreData(site)\n",
    "\n",
    "data_d18O = DataAll[0]; data_d18O_LT = DataAll[1]\n",
    "data_ECM = DataAll[2]; data_ECM_LT = DataAll[3]\n",
    "data_dens = DataAll[4]; data_dens_LT = DataAll[5]\n",
    "data_diff = DataAll[6]; data_diff_LT = DataAll[7]\n",
    "\n",
    "\n",
    "depth_LT = data_d18O_LT['depth']\n",
    "d18O_LT = data_d18O_LT['d18O']\n"
   ]
  },
  {
   "cell_type": "code",
   "execution_count": 5,
   "metadata": {},
   "outputs": [],
   "source": [
    "def DiffLen_V_Npeaks(site_in, diffLen_start, diffLen_end, max_Npeaks = 500):\n",
    "    site = site_in\n",
    "\n",
    "    CoresSpecs = pd.read_csv('/home/thea/Documents/KUFysik/MesterTesen/Data/CoreSpecs.txt', ',')\n",
    "\n",
    "    coreNames = CoresSpecs['CoreName']\n",
    "\n",
    "    core_idx = coreNames[CoresSpecs['CoreName'] == site].index[0]\n",
    "    CoreSpecs = CoresSpecs.iloc[core_idx]\n",
    "    dTamb = CoreSpecs['dTamb']\n",
    "    dLaki = CoreSpecs['dLaki']\n",
    "\n",
    "\n",
    "    DataAll = GetCoreData(site)\n",
    "    \n",
    "    data_d18O = DataAll[0]; data_d18O_LT = DataAll[1]\n",
    "    data_ECM = DataAll[2]; data_ECM_LT = DataAll[3]\n",
    "    data_dens = DataAll[4]; data_dens_LT = DataAll[5]\n",
    "    data_diff = DataAll[6]; data_diff_LT = DataAll[7]\n",
    "\n",
    "    \n",
    "    depth_LT = data_d18O_LT['depth']\n",
    "    d18O_LT = data_d18O_LT['d18O']\n",
    "\n",
    "    depth_LT_int, d18O_LT_int, Delta = interpCores(np.asarray(depth_LT)[0], np.asarray(depth_LT)[-1], depth_LT, d18O_LT)\n",
    "\n",
    "    inst = BackDiffuse(site, data_d18O_LT, CoresSpecs, dTamb, dLaki, max_Npeaks, diffLenData=data_diff_LT[['Depth','sigma_o18']], densData=data_dens_LT)\n",
    "    diffLen = inst.spectralEstimate()\n",
    "    difflenEstHL = inst.diffLenEstimateHL()\n",
    "    depth1, data, diffLen, peaks, arr_DiffLens, arr_Npeaks, arr_depth, arr_data = inst.backDiffused(theoDiffLen=False,print_Npeaks=False, diffLenStart_In=0.005, diffLenEnd_In=0.15)\n",
    "    \n",
    "    return depth1, data, diffLen, peaks, arr_DiffLens, arr_Npeaks, arr_depth, arr_data"
   ]
  },
  {
   "cell_type": "code",
   "execution_count": 7,
   "metadata": {},
   "outputs": [
    {
     "data": {
      "text/plain": [
       "0           Crete\n",
       "1         Milcent\n",
       "2     CampCentury\n",
       "3           SiteA\n",
       "4           SiteB\n",
       "5           SiteC\n",
       "6           SiteD\n",
       "7           SiteE\n",
       "8           SiteF\n",
       "9           SiteG\n",
       "10          SiteH\n",
       "Name: CoreName, dtype: object"
      ]
     },
     "execution_count": 7,
     "metadata": {},
     "output_type": "execute_result"
    }
   ],
   "source": [
    "coreNames"
   ]
  },
  {
   "cell_type": "code",
   "execution_count": 8,
   "metadata": {},
   "outputs": [
    {
     "name": "stdout",
     "output_type": "stream",
     "text": [
      "\n",
      "Site: Crete\n",
      "\n",
      "No ECM file found, setting empty df instead\n",
      "Starting sigma: 0.50 [cm]\n",
      "100. Npeaks: 29, diffLen: 1.505 cm\n",
      "200. Npeaks: 30, diffLen: 2.510 cm\n",
      "300. Npeaks: 30, diffLen: 3.515 cm\n",
      "400. Npeaks: 31, diffLen: 4.520 cm\n",
      "500. Npeaks: 32, diffLen: 5.525 cm\n",
      "600. Npeaks: 34, diffLen: 6.530 cm\n",
      "700. Npeaks: 45, diffLen: 7.535 cm\n",
      "800. Npeaks: 58, diffLen: 8.540 cm\n",
      "900. Npeaks: 65, diffLen: 9.545 cm\n",
      "1000. Npeaks: 130, diffLen: 10.550 cm\n",
      "1100. Npeaks: 190, diffLen: 11.555 cm\n",
      "1200. Npeaks: 191, diffLen: 12.560 cm\n",
      "1300. Npeaks: 191, diffLen: 13.565 cm\n",
      "1400. Npeaks: 191, diffLen: 14.570 cm\n",
      "Final sigma: 14.98 [cm]\n",
      "Final # of peaks: 191\n",
      "\n",
      "Site: SiteA\n",
      "\n",
      "Starting sigma: 0.50 [cm]\n",
      "100. Npeaks: 28, diffLen: 1.505 cm\n",
      "200. Npeaks: 29, diffLen: 2.510 cm\n",
      "300. Npeaks: 30, diffLen: 3.515 cm\n",
      "400. Npeaks: 32, diffLen: 4.520 cm\n",
      "500. Npeaks: 32, diffLen: 5.525 cm\n",
      "600. Npeaks: 36, diffLen: 6.530 cm\n",
      "700. Npeaks: 44, diffLen: 7.535 cm\n",
      "800. Npeaks: 54, diffLen: 8.540 cm\n",
      "900. Npeaks: 68, diffLen: 9.545 cm\n",
      "1000. Npeaks: 101, diffLen: 10.550 cm\n",
      "1100. Npeaks: 122, diffLen: 11.555 cm\n",
      "1200. Npeaks: 127, diffLen: 12.560 cm\n",
      "1300. Npeaks: 127, diffLen: 13.565 cm\n",
      "1400. Npeaks: 127, diffLen: 14.570 cm\n",
      "Final sigma: 14.98 [cm]\n",
      "Final # of peaks: 128\n",
      "\n",
      "Site: SiteB\n",
      "\n",
      "Starting sigma: 0.50 [cm]\n",
      "100. Npeaks: 32, diffLen: 1.505 cm\n",
      "200. Npeaks: 32, diffLen: 2.510 cm\n",
      "300. Npeaks: 33, diffLen: 3.515 cm\n",
      "400. Npeaks: 33, diffLen: 4.520 cm\n",
      "500. Npeaks: 33, diffLen: 5.525 cm\n",
      "600. Npeaks: 34, diffLen: 6.530 cm\n",
      "700. Npeaks: 42, diffLen: 7.535 cm\n",
      "800. Npeaks: 61, diffLen: 8.540 cm\n",
      "900. Npeaks: 69, diffLen: 9.545 cm\n",
      "1000. Npeaks: 94, diffLen: 10.550 cm\n",
      "1100. Npeaks: 125, diffLen: 11.555 cm\n",
      "1200. Npeaks: 135, diffLen: 12.560 cm\n",
      "1300. Npeaks: 136, diffLen: 13.565 cm\n",
      "1400. Npeaks: 137, diffLen: 14.570 cm\n",
      "Final sigma: 14.98 [cm]\n",
      "Final # of peaks: 137\n",
      "\n",
      "Site: SiteD\n",
      "\n",
      "Starting sigma: 0.50 [cm]\n",
      "100. Npeaks: 33, diffLen: 1.505 cm\n",
      "200. Npeaks: 33, diffLen: 2.510 cm\n",
      "300. Npeaks: 33, diffLen: 3.515 cm\n",
      "400. Npeaks: 33, diffLen: 4.520 cm\n",
      "500. Npeaks: 35, diffLen: 5.525 cm\n",
      "600. Npeaks: 36, diffLen: 6.530 cm\n",
      "700. Npeaks: 39, diffLen: 7.535 cm\n",
      "800. Npeaks: 52, diffLen: 8.540 cm\n",
      "900. Npeaks: 69, diffLen: 9.545 cm\n",
      "1000. Npeaks: 85, diffLen: 10.550 cm\n",
      "1100. Npeaks: 146, diffLen: 11.555 cm\n",
      "1200. Npeaks: 160, diffLen: 12.560 cm\n",
      "1300. Npeaks: 164, diffLen: 13.565 cm\n",
      "1400. Npeaks: 164, diffLen: 14.570 cm\n",
      "Final sigma: 14.98 [cm]\n",
      "Final # of peaks: 164\n",
      "\n",
      "Site: SiteE\n",
      "\n",
      "Starting sigma: 0.50 [cm]\n",
      "100. Npeaks: 21, diffLen: 1.505 cm\n",
      "200. Npeaks: 21, diffLen: 2.510 cm\n",
      "300. Npeaks: 22, diffLen: 3.515 cm\n",
      "400. Npeaks: 23, diffLen: 4.520 cm\n",
      "500. Npeaks: 28, diffLen: 5.525 cm\n",
      "600. Npeaks: 34, diffLen: 6.530 cm\n",
      "700. Npeaks: 37, diffLen: 7.535 cm\n",
      "800. Npeaks: 40, diffLen: 8.540 cm\n",
      "900. Npeaks: 50, diffLen: 9.545 cm\n",
      "1000. Npeaks: 69, diffLen: 10.550 cm\n",
      "1100. Npeaks: 100, diffLen: 11.555 cm\n",
      "1200. Npeaks: 111, diffLen: 12.560 cm\n",
      "1300. Npeaks: 111, diffLen: 13.565 cm\n",
      "1400. Npeaks: 113, diffLen: 14.570 cm\n",
      "Final sigma: 14.98 [cm]\n",
      "Final # of peaks: 113\n",
      "\n",
      "Site: SiteG\n",
      "\n",
      "Starting sigma: 0.50 [cm]\n",
      "100. Npeaks: 18, diffLen: 1.505 cm\n",
      "200. Npeaks: 19, diffLen: 2.510 cm\n",
      "300. Npeaks: 19, diffLen: 3.515 cm\n",
      "400. Npeaks: 24, diffLen: 4.520 cm\n",
      "500. Npeaks: 27, diffLen: 5.525 cm\n",
      "600. Npeaks: 29, diffLen: 6.530 cm\n",
      "700. Npeaks: 32, diffLen: 7.535 cm\n",
      "800. Npeaks: 33, diffLen: 8.540 cm\n",
      "900. Npeaks: 43, diffLen: 9.545 cm\n",
      "1000. Npeaks: 62, diffLen: 10.550 cm\n",
      "1100. Npeaks: 91, diffLen: 11.555 cm\n",
      "1200. Npeaks: 101, diffLen: 12.560 cm\n",
      "1300. Npeaks: 106, diffLen: 13.565 cm\n",
      "1400. Npeaks: 106, diffLen: 14.570 cm\n",
      "Final sigma: 14.98 [cm]\n",
      "Final # of peaks: 106\n",
      "\n",
      "Site: SiteH\n",
      "\n"
     ]
    },
    {
     "ename": "IndexError",
     "evalue": "index 0 is out of bounds for axis 0 with size 0",
     "output_type": "error",
     "traceback": [
      "\u001b[0;31m---------------------------------------------------------------------------\u001b[0m",
      "\u001b[0;31mIndexError\u001b[0m                                Traceback (most recent call last)",
      "\u001b[0;32m<ipython-input-8-5eb6c84c8f58>\u001b[0m in \u001b[0;36m<module>\u001b[0;34m\u001b[0m\n\u001b[1;32m      6\u001b[0m \u001b[0;32mfor\u001b[0m \u001b[0mi\u001b[0m \u001b[0;32min\u001b[0m \u001b[0mrange\u001b[0m\u001b[0;34m(\u001b[0m\u001b[0mlen\u001b[0m\u001b[0;34m(\u001b[0m\u001b[0mSites\u001b[0m\u001b[0;34m)\u001b[0m\u001b[0;34m)\u001b[0m\u001b[0;34m:\u001b[0m\u001b[0;34m\u001b[0m\u001b[0;34m\u001b[0m\u001b[0m\n\u001b[1;32m      7\u001b[0m     \u001b[0mprint\u001b[0m\u001b[0;34m(\u001b[0m\u001b[0;34m'\\nSite: '\u001b[0m \u001b[0;34m+\u001b[0m \u001b[0mSites\u001b[0m\u001b[0;34m[\u001b[0m\u001b[0mi\u001b[0m\u001b[0;34m]\u001b[0m \u001b[0;34m+\u001b[0m \u001b[0;34m'\\n'\u001b[0m\u001b[0;34m)\u001b[0m\u001b[0;34m\u001b[0m\u001b[0;34m\u001b[0m\u001b[0m\n\u001b[0;32m----> 8\u001b[0;31m     \u001b[0m_\u001b[0m\u001b[0;34m,\u001b[0m \u001b[0m_\u001b[0m\u001b[0;34m,\u001b[0m \u001b[0m_\u001b[0m\u001b[0;34m,\u001b[0m \u001b[0m_\u001b[0m\u001b[0;34m,\u001b[0m \u001b[0marr_DiffLens\u001b[0m\u001b[0;34m,\u001b[0m \u001b[0marr_Npeaks\u001b[0m\u001b[0;34m,\u001b[0m \u001b[0m_\u001b[0m\u001b[0;34m,\u001b[0m \u001b[0m_\u001b[0m \u001b[0;34m=\u001b[0m \u001b[0mDiffLen_V_Npeaks\u001b[0m\u001b[0;34m(\u001b[0m\u001b[0mSites\u001b[0m\u001b[0;34m[\u001b[0m\u001b[0mi\u001b[0m\u001b[0;34m]\u001b[0m\u001b[0;34m,\u001b[0m \u001b[0mdiffLen_start\u001b[0m\u001b[0;34m=\u001b[0m\u001b[0;36m0.005\u001b[0m\u001b[0;34m,\u001b[0m \u001b[0mdiffLen_end\u001b[0m \u001b[0;34m=\u001b[0m \u001b[0;36m0.15\u001b[0m\u001b[0;34m)\u001b[0m\u001b[0;34m\u001b[0m\u001b[0;34m\u001b[0m\u001b[0m\n\u001b[0m\u001b[1;32m      9\u001b[0m     \u001b[0mDiffLens\u001b[0m\u001b[0;34m.\u001b[0m\u001b[0mappend\u001b[0m\u001b[0;34m(\u001b[0m\u001b[0marr_DiffLens\u001b[0m\u001b[0;34m)\u001b[0m\u001b[0;34m\u001b[0m\u001b[0;34m\u001b[0m\u001b[0m\n\u001b[1;32m     10\u001b[0m     \u001b[0mNpeaks\u001b[0m\u001b[0;34m.\u001b[0m\u001b[0mappend\u001b[0m\u001b[0;34m(\u001b[0m\u001b[0marr_Npeaks\u001b[0m\u001b[0;34m)\u001b[0m\u001b[0;34m\u001b[0m\u001b[0;34m\u001b[0m\u001b[0m\n",
      "\u001b[0;32m<ipython-input-5-2295a4fbd2be>\u001b[0m in \u001b[0;36mDiffLen_V_Npeaks\u001b[0;34m(site_in, diffLen_start, diffLen_end, max_Npeaks)\u001b[0m\n\u001b[1;32m     23\u001b[0m     \u001b[0md18O_LT\u001b[0m \u001b[0;34m=\u001b[0m \u001b[0mdata_d18O_LT\u001b[0m\u001b[0;34m[\u001b[0m\u001b[0;34m'd18O'\u001b[0m\u001b[0;34m]\u001b[0m\u001b[0;34m\u001b[0m\u001b[0;34m\u001b[0m\u001b[0m\n\u001b[1;32m     24\u001b[0m \u001b[0;34m\u001b[0m\u001b[0m\n\u001b[0;32m---> 25\u001b[0;31m     \u001b[0mdepth_LT_int\u001b[0m\u001b[0;34m,\u001b[0m \u001b[0md18O_LT_int\u001b[0m\u001b[0;34m,\u001b[0m \u001b[0mDelta\u001b[0m \u001b[0;34m=\u001b[0m \u001b[0minterpCores\u001b[0m\u001b[0;34m(\u001b[0m\u001b[0mnp\u001b[0m\u001b[0;34m.\u001b[0m\u001b[0masarray\u001b[0m\u001b[0;34m(\u001b[0m\u001b[0mdepth_LT\u001b[0m\u001b[0;34m)\u001b[0m\u001b[0;34m[\u001b[0m\u001b[0;36m0\u001b[0m\u001b[0;34m]\u001b[0m\u001b[0;34m,\u001b[0m \u001b[0mnp\u001b[0m\u001b[0;34m.\u001b[0m\u001b[0masarray\u001b[0m\u001b[0;34m(\u001b[0m\u001b[0mdepth_LT\u001b[0m\u001b[0;34m)\u001b[0m\u001b[0;34m[\u001b[0m\u001b[0;34m-\u001b[0m\u001b[0;36m1\u001b[0m\u001b[0;34m]\u001b[0m\u001b[0;34m,\u001b[0m \u001b[0mdepth_LT\u001b[0m\u001b[0;34m,\u001b[0m \u001b[0md18O_LT\u001b[0m\u001b[0;34m)\u001b[0m\u001b[0;34m\u001b[0m\u001b[0;34m\u001b[0m\u001b[0m\n\u001b[0m\u001b[1;32m     26\u001b[0m \u001b[0;34m\u001b[0m\u001b[0m\n\u001b[1;32m     27\u001b[0m     \u001b[0minst\u001b[0m \u001b[0;34m=\u001b[0m \u001b[0mBackDiffuse\u001b[0m\u001b[0;34m(\u001b[0m\u001b[0msite\u001b[0m\u001b[0;34m,\u001b[0m \u001b[0mdata_d18O_LT\u001b[0m\u001b[0;34m,\u001b[0m \u001b[0mCoresSpecs\u001b[0m\u001b[0;34m,\u001b[0m \u001b[0mdTamb\u001b[0m\u001b[0;34m,\u001b[0m \u001b[0mdLaki\u001b[0m\u001b[0;34m,\u001b[0m \u001b[0mmax_Npeaks\u001b[0m\u001b[0;34m,\u001b[0m \u001b[0mdiffLenData\u001b[0m\u001b[0;34m=\u001b[0m\u001b[0mdata_diff_LT\u001b[0m\u001b[0;34m[\u001b[0m\u001b[0;34m[\u001b[0m\u001b[0;34m'Depth'\u001b[0m\u001b[0;34m,\u001b[0m\u001b[0;34m'sigma_o18'\u001b[0m\u001b[0;34m]\u001b[0m\u001b[0;34m]\u001b[0m\u001b[0;34m,\u001b[0m \u001b[0mdensData\u001b[0m\u001b[0;34m=\u001b[0m\u001b[0mdata_dens_LT\u001b[0m\u001b[0;34m)\u001b[0m\u001b[0;34m\u001b[0m\u001b[0;34m\u001b[0m\u001b[0m\n",
      "\u001b[0;31mIndexError\u001b[0m: index 0 is out of bounds for axis 0 with size 0"
     ]
    }
   ],
   "source": [
    "Sites = list(coreNames.drop([1,2,5,8,10]))\n",
    "\n",
    "DiffLens = []\n",
    "Npeaks = []\n",
    "\n",
    "for i in range(len(Sites)):\n",
    "    print('\\nSite: ' + Sites[i] + '\\n')\n",
    "    _, _, _, _, arr_DiffLens, arr_Npeaks, _, _ = DiffLen_V_Npeaks(Sites[i], diffLen_start=0.005, diffLen_end = 0.15)\n",
    "    DiffLens.append(arr_DiffLens)\n",
    "    Npeaks.append(arr_Npeaks)"
   ]
  },
  {
   "cell_type": "code",
   "execution_count": 22,
   "metadata": {
    "scrolled": true
   },
   "outputs": [
    {
     "data": {
      "text/plain": [
       "<matplotlib.legend.Legend at 0x7f8da7330898>"
      ]
     },
     "execution_count": 22,
     "metadata": {},
     "output_type": "execute_result"
    },
    {
     "data": {
      "image/png": "[encoded data removed]",
      "text/plain": [
       "<matplotlib.figure.Figure at 0x7f8da7344a20>"
      ]
     },
     "metadata": {
      "needs_background": "light"
     },
     "output_type": "display_data"
    }
   ],
   "source": [
    "Sites = list(coreNames.drop([1,2,5,8,10]))\n",
    "fig, ax = plt.subplots(figsize=(8,6))\n",
    "for i in range(len(Sites)):\n",
    "    plt.step(DiffLens[i], Npeaks[i], label=Sites[i])\n",
    "plt.axhline(y=32,ls='--',color='k', lw=1.2, alpha=0.8)\n",
    "plt.legend()"
   ]
  },
  {
   "cell_type": "code",
   "execution_count": null,
   "metadata": {},
   "outputs": [],
   "source": [
    "arr_diffLens = np.asarray(arr_DiffLens)\n",
    "val = arr_diffLens[(arr_diffLens >= 0.08) & (arr_diffLens <= 0.0801)]\n",
    "idx = np.where(arr_diffLens == val)[0][0]"
   ]
  },
  {
   "cell_type": "code",
   "execution_count": null,
   "metadata": {},
   "outputs": [],
   "source": [
    "fig, ax = plt.subplots(figsize=(14,6))\n",
    "i=idx\n",
    "print(arr_DiffLens[i])\n",
    "\n",
    "plt.plot(arr_depth[0],arr_data[0],'-',marker='.', label=f'Diff len: {arr_DiffLens[0]:.3f}')\n",
    "plt.plot(arr_depth[i], arr_data[i],'-',marker='.',label=f'Diff len: {val[0]:.3f}')\n",
    "plt.plot(depth_LT,d18O_LT - np.mean(d18O_LT),'-',marker='.', label='Data', color='k')\n",
    "plt.legend();"
   ]
  },
  {
   "cell_type": "code",
   "execution_count": null,
   "metadata": {},
   "outputs": [],
   "source": []
  }
 ],
 "metadata": {
  "kernelspec": {
   "display_name": "Python 3",
   "language": "python",
   "name": "python3"
  },
  "language_info": {
   "codemirror_mode": {
    "name": "ipython",
    "version": 3
   },
   "file_extension": ".py",
   "mimetype": "text/x-python",
   "name": "python",
   "nbconvert_exporter": "python",
   "pygments_lexer": "ipython3",
   "version": "3.6.9"
  }
 },
 "nbformat": 4,
 "nbformat_minor": 2
}
