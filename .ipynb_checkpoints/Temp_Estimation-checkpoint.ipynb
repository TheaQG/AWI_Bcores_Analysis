{
 "cells": [
  {
   "cell_type": "code",
   "execution_count": null,
   "metadata": {},
   "outputs": [],
   "source": [
    "import numpy as np\n",
    "import os\n",
    "import pandas as pd\n",
    "from pandas import ExcelWriter\n",
    "import matplotlib.pyplot as plt\n",
    "import openpyxl\n",
    "import matplotlib as mpl\n",
    "import scipy as sp\n",
    "from scipy import stats\n",
    "from scipy import signal\n",
    "from scipy import fft\n",
    "from scipy import io\n",
    "from scipy import interpolate\n",
    "from scipy import optimize\n",
    "from scipy import linalg\n",
    "from scipy import integrate\n",
    "from scipy.fft import dct\n",
    "from scipy import signal\n",
    "\n",
    "mpl.rcParams['text.usetex'] = True\n",
    "mpl.rcParams['text.latex.preamble'] = [\n",
    "    r'\\usepackage{textcomp}',\n",
    "    r'\\usepackage{wasysym}']\n",
    "mpl.rcParams['mathtext.fontset'] = 'stix'\n",
    "mpl.rcParams['font.size'] = 22\n",
    "mpl.rcParams['font.family'] = 'STIXGeneral'\n",
    "from BackDiffuse_LT import BackDiffuse\n",
    "\n",
    "\n",
    "showFigs=True"
   ]
  },
  {
   "cell_type": "code",
   "execution_count": null,
   "metadata": {},
   "outputs": [],
   "source": [
    "    # Core names of cores available\n",
    "coreNames = ['Crete', 'SiteA', 'SiteB', 'SiteD', 'SiteE', 'SiteG']\n",
    "\n",
    "    # Selecting core name\n",
    "coreName = 'Crete'\n",
    "\n",
    "    # Reading datafiles for specific core\n",
    "d18OData = pd.read_csv('/home/thea/Documents/KUFysik/MesterTesen/Data/datasets/Alphabet_cores/Alphabetd18O/'+coreName+'_det.txt',',')\n",
    "densities = pd.read_csv('/home/thea/Documents/KUFysik/MesterTesen/Data/datasets/Alphabet_cores/AlphabetDens/'+coreName+'DepthDens_w_Models.txt','\\t')\n",
    "diffLens = pd.read_csv('/home/thea/Documents/KUFysik/MesterTesen/Data/datasets/Alphabet_cores/AlphabetDiff/'+coreName+'_DepthDiff.txt','\\t')\n",
    "specsCores = pd.read_csv('/home/thea/Documents/KUFysik/MesterTesen/Data/CoreSpecs.txt',',')\n",
    "specIdx = specsCores['CoreName'][specsCores['CoreName'] == coreName].index[0]\n",
    "\n",
    "    # Set the specs for depth of Laki and Tambora eruptions for core\n",
    "specsCore = specsCores.iloc[specIdx]\n",
    "dTamb = np.float64(specsCore['dTamb'])\n",
    "dLaki = np.float64(specsCore['dLaki'])\n",
    "\n",
    "    # (FOR PLOTTING) Make array of only d18O data between Laki and Tamb\n",
    "depth_LT = d18OData['depth'][(d18OData['depth'] >= dTamb) & (d18OData['depth'] <= dLaki)]\n",
    "d18O_LT = d18OData['d18O'][(d18OData['depth'] >= dTamb) & (d18OData['depth'] <= dLaki)]\n",
    "\n",
    "\n",
    "\n"
   ]
  },
  {
   "cell_type": "code",
   "execution_count": null,
   "metadata": {},
   "outputs": [],
   "source": [
    "    # Create instance of back diffusion\n",
    "inst = BackDiffuse(coreName, d18OData, specsCores, dTamb, dLaki, 32, diffLenData=diffLens[['Depth','sigma_o18']], densData=densities)\n",
    "\n",
    "    # Make spectral estimate of diff len\n",
    "diffLen = inst.spectralEstimate()\n",
    "\n",
    "    # Make model/empiric estimate of diff len\n",
    "difflenEstHL = inst.diffLenEstimateHL()\n",
    "\n",
    "    # Compute final depth/d18O back diffused data w. final diff len and No. peaks\n",
    "depth, data, diffLen, peaks = inst.backDiffused()\n"
   ]
  },
  {
   "cell_type": "code",
   "execution_count": null,
   "metadata": {},
   "outputs": [],
   "source": [
    "    # Plot original data, back diffused data and peak estimations\n",
    "fig, ax = plt.subplots(figsize=(10,7))\n",
    "ax.plot(depth_LT, d18O_LT-np.mean(d18O_LT),color='k', lw=1, label = 'Data')\n",
    "ax.plot(depth, data, lw=1, label='Back diffused')\n",
    "ax.plot(depth[peaks], data[peaks],'.',lw=1, label='Estimated peaks')\n",
    "ax.set(xlabel = 'Depth [m]', ylabel = '$\\delta^{18}$O [\\permil]', title=coreName)\n",
    "ax.legend(fontsize=16)\n",
    "fig.tight_layout()\n",
    "fig.savefig(coreName + '_peaks.jpg')\n"
   ]
  },
  {
   "cell_type": "code",
   "execution_count": null,
   "metadata": {},
   "outputs": [],
   "source": [
    "    # Compute temperature estimate in [K]\n",
    "depthT, dataT = inst.DeltaToTemp()\n",
    "\n",
    "    # Plot Temperature data in [C]\n",
    "fig2, ax2 = plt.subplots(figsize=(10,7))\n",
    "ax2.plot(depthT, dataT-273.15,color='k', lw=1)\n",
    "ax2.set(xlabel = 'Depth [m]', ylabel = 'Temperature [C]', title=coreName)\n",
    "fig2.savefig(coreName + '_Temp.jpg')"
   ]
  },
  {
   "cell_type": "code",
   "execution_count": 22,
   "metadata": {},
   "outputs": [
    {
     "name": "stdout",
     "output_type": "stream",
     "text": [
      "Modelclimate\n",
      "age\n",
      "density\n",
      "depth\n",
      "drho_dt\n",
      "iso_dsigma2_dt_17\n",
      "iso_dsigma2_dt_18\n",
      "iso_dsigma2_dt_D\n",
      "iso_sigma17\n",
      "iso_sigma18\n",
      "iso_sigmaD\n",
      "temperature\n"
     ]
    }
   ],
   "source": [
    "import h5py\n",
    "filename = '/home/thea/MesterTesen/CFM-thea/cfm_mytests/steady_state_test_results_temp/SiteA_test.hdf5' \n",
    "\n",
    "f = h5py.File(filename,'r')\n",
    "for key in f.keys():\n",
    "    print(key)\n",
    "    \n",
    "age = f['age'][()]\n",
    "depth = f['depth'][()]\n",
    "temperature = f['temperature'][()]\n",
    "Modelclimate = f['Modelclimate'][()]\n",
    "density = f['density'][()]\n",
    "#isotopes= f['isotopes'][()]\n",
    "iso_sigma18 = f['iso_sigma18'][()]\n",
    "iso_dsigma2_dt_18 = f['iso_dsigma2_dt_18'][()]\n",
    "drho_dt = f['drho_dt'][()]"
   ]
  },
  {
   "cell_type": "code",
   "execution_count": 30,
   "metadata": {},
   "outputs": [
    {
     "data": {
      "text/plain": [
       "[<matplotlib.lines.Line2D at 0x7f3322fe36d8>]"
      ]
     },
     "execution_count": 30,
     "metadata": {},
     "output_type": "execute_result"
    },
    {
     "data": {
      "image/png": "[encoded data removed]",
      "text/plain": [
       "<matplotlib.figure.Figure at 0x7f3322a76048>"
      ]
     },
     "metadata": {
      "needs_background": "light"
     },
     "output_type": "display_data"
    }
   ],
   "source": [
    "fig, ax = plt.subplots()\n",
    "ax.plot(depth[-1][1:],drho_dt[-1][1:],'.-')\n",
    "#ax.set(ylim=(243,244.5))"
   ]
  },
  {
   "cell_type": "code",
   "execution_count": 206,
   "metadata": {},
   "outputs": [],
   "source": [
    "ys_d18O_forcing_SiteA = np.hstack(np.array([np.arange(1891,1920),np.arange(1931,1960)]))-1985\n",
    "d18O_forcing_SiteA = np.hstack(np.array([-34.02*np.ones(1920-1891),-32.86*np.ones(1960-1931)]))\n",
    "\n",
    "d18O_forcing_SiteA_Full = np.asarray([ys_d18O_forcing_SiteA,d18O_forcing_SiteA])"
   ]
  },
  {
   "cell_type": "code",
   "execution_count": 207,
   "metadata": {},
   "outputs": [],
   "source": [
    "\n",
    "\n",
    "ys_accum_forcing_SiteA = np.arange(1943,1973) - 1985\n",
    "accum_forcing_SiteA = 0.307 * np.ones(1973-1943)\n",
    "\n",
    "accum_forcing_SiteA_Full = np.asarray([ys_accum_forcing_SiteA,accum_forcing_SiteA])"
   ]
  },
  {
   "cell_type": "code",
   "execution_count": 208,
   "metadata": {},
   "outputs": [],
   "source": [
    "ys_temp_forcing_SiteA = np.arange(1948,1985)-1985\n",
    "temp_forcing_SiteA = 29.41 * np.ones(1985-1948)+273.15\n",
    "\n",
    "temp_forcing_SiteA_Full = np.asarray([ys_temp_forcing_SiteA,temp_forcing_SiteA])"
   ]
  },
  {
   "cell_type": "code",
   "execution_count": 212,
   "metadata": {},
   "outputs": [],
   "source": [
    "np.savetxt('/home/thea/MesterTesen/CFM-thea/cfm_mytests/cfm_my_forcings/temp_forcing_SiteA_TEST.csv',temp_forcing_SiteA_Full,delimiter=',')\n",
    "np.savetxt('/home/thea/MesterTesen//CFM-thea/cfm_mytests/cfm_my_forcings/accum_forcing_SiteA_TEST.csv',accum_forcing_SiteA_Full,delimiter=',')\n",
    "np.savetxt('/home/thea/MesterTesen/CFM-thea/cfm_mytests/cfm_my_forcings/d18O_forcing_SiteA_TEST.csv',d18O_forcing_SiteA_Full,delimiter=',')"
   ]
  },
  {
   "cell_type": "code",
   "execution_count": 211,
   "metadata": {
    "scrolled": true
   },
   "outputs": [
    {
     "data": {
      "text/plain": [
       "array([[-94.  , -93.  , -92.  , -91.  , -90.  , -89.  , -88.  , -87.  ,\n",
       "        -86.  , -85.  , -84.  , -83.  , -82.  , -81.  , -80.  , -79.  ,\n",
       "        -78.  , -77.  , -76.  , -75.  , -74.  , -73.  , -72.  , -71.  ,\n",
       "        -70.  , -69.  , -68.  , -67.  , -66.  , -54.  , -53.  , -52.  ,\n",
       "        -51.  , -50.  , -49.  , -48.  , -47.  , -46.  , -45.  , -44.  ,\n",
       "        -43.  , -42.  , -41.  , -40.  , -39.  , -38.  , -37.  , -36.  ,\n",
       "        -35.  , -34.  , -33.  , -32.  , -31.  , -30.  , -29.  , -28.  ,\n",
       "        -27.  , -26.  ],\n",
       "       [-34.02, -34.02, -34.02, -34.02, -34.02, -34.02, -34.02, -34.02,\n",
       "        -34.02, -34.02, -34.02, -34.02, -34.02, -34.02, -34.02, -34.02,\n",
       "        -34.02, -34.02, -34.02, -34.02, -34.02, -34.02, -34.02, -34.02,\n",
       "        -34.02, -34.02, -34.02, -34.02, -34.02, -32.86, -32.86, -32.86,\n",
       "        -32.86, -32.86, -32.86, -32.86, -32.86, -32.86, -32.86, -32.86,\n",
       "        -32.86, -32.86, -32.86, -32.86, -32.86, -32.86, -32.86, -32.86,\n",
       "        -32.86, -32.86, -32.86, -32.86, -32.86, -32.86, -32.86, -32.86,\n",
       "        -32.86, -32.86]])"
      ]
     },
     "execution_count": 211,
     "metadata": {},
     "output_type": "execute_result"
    }
   ],
   "source": [
    "d18O_forcing_SiteA_Full"
   ]
  },
  {
   "cell_type": "code",
   "execution_count": 217,
   "metadata": {},
   "outputs": [],
   "source": [
    "test = pd.read_csv('/home/thea/MesterTesen/CFM-thea/cfm_mytests/cfm_my_forcings/accum_forcing_SiteA_TEST2.csv',',',header=None).transpose()"
   ]
  },
  {
   "cell_type": "code",
   "execution_count": 193,
   "metadata": {},
   "outputs": [
    {
     "data": {
      "text/plain": [
       "array([[  0.  , -37.  ],\n",
       "       [243.74, 243.74]])"
      ]
     },
     "execution_count": 193,
     "metadata": {},
     "output_type": "execute_result"
    }
   ],
   "source": [
    "np.loadtxt('/home/thea/MesterTesen/CFM-thea/cfm_mytests/cfm_my_forcings/temp_forcing_SiteA_TEST.csv',delimiter=',')"
   ]
  },
  {
   "cell_type": "code",
   "execution_count": 218,
   "metadata": {},
   "outputs": [
    {
     "data": {
      "text/html": [
       "<div>\n",
       "<style scoped>\n",
       "    .dataframe tbody tr th:only-of-type {\n",
       "        vertical-align: middle;\n",
       "    }\n",
       "\n",
       "    .dataframe tbody tr th {\n",
       "        vertical-align: top;\n",
       "    }\n",
       "\n",
       "    .dataframe thead th {\n",
       "        text-align: right;\n",
       "    }\n",
       "</style>\n",
       "<table border=\"1\" class=\"dataframe\">\n",
       "  <thead>\n",
       "    <tr style=\"text-align: right;\">\n",
       "      <th></th>\n",
       "      <th>0</th>\n",
       "      <th>1</th>\n",
       "      <th>2</th>\n",
       "      <th>3</th>\n",
       "      <th>4</th>\n",
       "      <th>5</th>\n",
       "      <th>6</th>\n",
       "      <th>7</th>\n",
       "      <th>8</th>\n",
       "      <th>9</th>\n",
       "      <th>10</th>\n",
       "      <th>11</th>\n",
       "      <th>12</th>\n",
       "      <th>13</th>\n",
       "      <th>14</th>\n",
       "      <th>15</th>\n",
       "      <th>16</th>\n",
       "      <th>17</th>\n",
       "      <th>18</th>\n",
       "    </tr>\n",
       "  </thead>\n",
       "  <tbody>\n",
       "    <tr>\n",
       "      <td>0</td>\n",
       "      <td>1985.00</td>\n",
       "      <td>1984.00</td>\n",
       "      <td>1983.00</td>\n",
       "      <td>1982.0</td>\n",
       "      <td>1981.00</td>\n",
       "      <td>1980.00</td>\n",
       "      <td>1979.00</td>\n",
       "      <td>1978.0</td>\n",
       "      <td>1977.00</td>\n",
       "      <td>1976.0</td>\n",
       "      <td>1975.00</td>\n",
       "      <td>1974.0</td>\n",
       "      <td>1973.0</td>\n",
       "      <td>1972.00</td>\n",
       "      <td>1971.00</td>\n",
       "      <td>1970.0</td>\n",
       "      <td>1969.00</td>\n",
       "      <td>1968.00</td>\n",
       "      <td>1967.00</td>\n",
       "    </tr>\n",
       "    <tr>\n",
       "      <td>1</td>\n",
       "      <td>21.53</td>\n",
       "      <td>32.29</td>\n",
       "      <td>43.05</td>\n",
       "      <td>28.7</td>\n",
       "      <td>25.11</td>\n",
       "      <td>43.05</td>\n",
       "      <td>14.35</td>\n",
       "      <td>28.7</td>\n",
       "      <td>35.88</td>\n",
       "      <td>28.7</td>\n",
       "      <td>35.88</td>\n",
       "      <td>28.7</td>\n",
       "      <td>28.7</td>\n",
       "      <td>39.46</td>\n",
       "      <td>21.53</td>\n",
       "      <td>28.7</td>\n",
       "      <td>32.29</td>\n",
       "      <td>25.11</td>\n",
       "      <td>7.18</td>\n",
       "    </tr>\n",
       "  </tbody>\n",
       "</table>\n",
       "</div>"
      ],
      "text/plain": [
       "         0        1        2       3        4        5        6       7  \\\n",
       "0  1985.00  1984.00  1983.00  1982.0  1981.00  1980.00  1979.00  1978.0   \n",
       "1    21.53    32.29    43.05    28.7    25.11    43.05    14.35    28.7   \n",
       "\n",
       "         8       9       10      11      12       13       14      15  \\\n",
       "0  1977.00  1976.0  1975.00  1974.0  1973.0  1972.00  1971.00  1970.0   \n",
       "1    35.88    28.7    35.88    28.7    28.7    39.46    21.53    28.7   \n",
       "\n",
       "        16       17       18  \n",
       "0  1969.00  1968.00  1967.00  \n",
       "1    32.29    25.11     7.18  "
      ]
     },
     "execution_count": 218,
     "metadata": {},
     "output_type": "execute_result"
    }
   ],
   "source": [
    "test"
   ]
  },
  {
   "cell_type": "code",
   "execution_count": null,
   "metadata": {},
   "outputs": [],
   "source": []
  }
 ],
 "metadata": {
  "kernelspec": {
   "display_name": "Python 3",
   "language": "python",
   "name": "python3"
  },
  "language_info": {
   "codemirror_mode": {
    "name": "ipython",
    "version": 3
   },
   "file_extension": ".py",
   "mimetype": "text/x-python",
   "name": "python",
   "nbconvert_exporter": "python",
   "pygments_lexer": "ipython3",
   "version": "3.6.9"
  }
 },
 "nbformat": 4,
 "nbformat_minor": 2
}
