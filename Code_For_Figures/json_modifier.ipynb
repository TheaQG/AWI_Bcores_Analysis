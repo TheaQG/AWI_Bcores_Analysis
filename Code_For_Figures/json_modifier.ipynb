{
 "cells": [
  {
   "cell_type": "markdown",
   "metadata": {},
   "source": [
    "# .json file modifier\n",
    "\n",
    "Function to modify .json file containing CFM run parameters"
   ]
  },
  {
   "cell_type": "code",
   "execution_count": 1,
   "metadata": {},
   "outputs": [],
   "source": [
    "import json"
   ]
  },
  {
   "cell_type": "code",
   "execution_count": 29,
   "metadata": {},
   "outputs": [],
   "source": [
    "def modify_json(genericFile, fileOut, **kwargs):\n",
    "    with open(genericFile, 'r') as f:\n",
    "        json_str = f.read()\n",
    "        c = json.loads(json_string)\n",
    "    n = 0\n",
    "    if len(kwargs.keys()) != 0:\n",
    "        for i in kwargs.keys():\n",
    "            if i in c.keys():\n",
    "                save_json = True\n",
    "                c[i] = kwargs[i]\n",
    "                if n == 0:\n",
    "                    print('#############################################')\n",
    "                    print('######## Changing .json generic file ########')\n",
    "                    print('#############################################\\n')\n",
    "                print('Changing param %s, new value: %s\\n' %(i, c[i]))\n",
    "                n += 1\n",
    "            else:\n",
    "                save_json = False\n",
    "    if save_json == True:\n",
    "        with open(fileOut, 'w') as f:\n",
    "            json.dump(c, f, indent = 4, sort_keys = True)\n",
    "            \n",
    "    return"
   ]
  },
  {
   "cell_type": "code",
   "execution_count": 30,
   "metadata": {},
   "outputs": [],
   "source": [
    "tempFile = \"/home/thea/MesterTesen/CFM-thea/cfm_mytests/cfm_my_forcings/temp_forcing_st_st.csv\"\n",
    "accumFile = \"/home/thea/MesterTesen/CFM-thea/cfm_mytests/cfm_my_forcings/accum_forcing_st_st.csv\""
   ]
  },
  {
   "cell_type": "code",
   "execution_count": 31,
   "metadata": {},
   "outputs": [
    {
     "name": "stdout",
     "output_type": "stream",
     "text": [
      "#############################################\n",
      "######## Changing .json generic file ########\n",
      "#############################################\n",
      "\n",
      "Changing param H, new value: 3200\n",
      "\n",
      "Changing param InputFileNameTemp, new value: /home/thea/MesterTesen/CFM-thea/cfm_mytests/cfm_my_forcings/temp_forcing_st_st.csv\n",
      "\n",
      "Changing param InputFileNamebdot, new value: /home/thea/MesterTesen/CFM-thea/cfm_mytests/cfm_my_forcings/accum_forcing_st_st.csv\n",
      "\n"
     ]
    }
   ],
   "source": [
    "modify_json(filepath, filepath_out, H = 3200, InputFileNameTemp = tempFile, InputFileNamebdot = accumFile)"
   ]
  },
  {
   "cell_type": "markdown",
   "metadata": {},
   "source": [
    "# .csv modifier (Accumulation and temperature forcings)\n",
    "\n",
    "Function to create/modify .csv files for accumulation and temperature forcings"
   ]
  },
  {
   "cell_type": "code",
   "execution_count": 37,
   "metadata": {},
   "outputs": [],
   "source": [
    "filePath = \"/home/thea/MesterTesen/CFM-thea/cfm_mytests/cfm_my_forcings/\"\n",
    "fileName = \"accum_forcing_st_st__244_0307.csv\"\n"
   ]
  },
  {
   "cell_type": "code",
   "execution_count": 39,
   "metadata": {},
   "outputs": [],
   "source": [
    "import os.path\n",
    "from os import path\n",
    "\n",
    "\n",
    "def write_AccumFile(filePath, fileOut, ageHist, bdotHist):\n",
    "    if path.exists(filePath + fileOut):\n",
    "        print('File already exists. Overwriting file.')\n",
    "    \n",
    "    f = open(filePath + fileOut, \"w\")\n",
    "    \n",
    "    np.savetxt(f, (ageHist, bdotHist), fmt = \"%0.3f\", delimiter = \",\")\n",
    "    \n",
    "    f.close()\n",
    "    \n",
    "    return\n",
    "\n",
    "def write_TempFile(filePath, fileOut, ageHist, TempHist):\n",
    "    if path.exists(filePath + fileOut):\n",
    "        print('File already exists. Overwriting file.')\n",
    "    \n",
    "    f = open(filePath + fileOut, \"w\")\n",
    "    \n",
    "    np.savetxt(f, (ageHist, TempHist), fmt = \"%0.3f\", delimiter = \",\")\n",
    "    \n",
    "    f.close()\n",
    "    \n",
    "    return\n",
    "\n"
   ]
  },
  {
   "cell_type": "code",
   "execution_count": null,
   "metadata": {},
   "outputs": [],
   "source": [
    "tHist = np.array([-200, 0])\n",
    "AHist = np.array([])\n",
    "THist = np.array([])"
   ]
  },
  {
   "cell_type": "markdown",
   "metadata": {},
   "source": [
    "# Reader functions\n",
    "\n",
    "Functions to read hdf5 files created from CFM runs."
   ]
  },
  {
   "cell_type": "code",
   "execution_count": null,
   "metadata": {},
   "outputs": [],
   "source": []
  },
  {
   "cell_type": "markdown",
   "metadata": {},
   "source": [
    "# Density profile creation"
   ]
  },
  {
   "cell_type": "code",
   "execution_count": 45,
   "metadata": {},
   "outputs": [],
   "source": [
    "import sys \n",
    "import os\n",
    "sys.path.append('../')\n",
    "\n",
    "from GetCoreData_fct import GetDensProfile\n",
    "from GetCoreData_fct import GetDiffProfile\n"
   ]
  },
  {
   "cell_type": "code",
   "execution_count": 41,
   "metadata": {},
   "outputs": [],
   "source": [
    "print('Creating density profile')\n",
    "core = 'SiteH'\n",
    "\n",
    "pathDens = '/home/thea/Documents/KUFysik/MesterTesen/Data/datasets/Alphabet_cores/AlphabetDens/' + core + '_DepthDens.txt'\n",
    "pathOut = '/home/thea/Documents/KUFysik/MesterTesen/Data/datasets/Alphabet_cores/AlphabetDens/' + core + 'DepthDens_w_Models.txt'\n",
    "pathIso = '/home/thea/Documents/KUFysik/MesterTesen/Data/datasets/Alphabet_cores/Alphabetd18O/'+core+'_det.txt'\n",
    "\n",
    "delimIso = ','\n",
    "delimOut = '\\t'\n",
    "delimDens = '\\t'\n",
    "\n",
    "#GetDensProfile(site_in = core, path_densMeas=pathDens,delim_densMeas=delimDens, path_isoMeas=pathIso, delim_isoMeas=delimIso, path_outFile=pathOut, delim_outFile=delimOut, area_in='Alphabet', zMeas_str = 'depth', densMeas_str = 'density')\n",
    "\n",
    "\n",
    "\n",
    "\n",
    "def createDensProfile():\n",
    "\n",
    "    return"
   ]
  },
  {
   "cell_type": "markdown",
   "metadata": {},
   "source": [
    "# Diffusion Length profile creation"
   ]
  },
  {
   "cell_type": "code",
   "execution_count": 43,
   "metadata": {},
   "outputs": [],
   "source": [
    "\n",
    "#core = 'SiteB'\n",
    "# print('Creating diffusion length profile')\n",
    "# PathDens = '/home/thea/Documents/KUFysik/MesterTesen/Data/datasets/Alphabet_cores/AlphabetDens/' + core + '_DepthDens.txt'\n",
    "# PathOut = '/home/thea/Documents/KUFysik/MesterTesen/Data/datasets/Alphabet_cores/AlphabetDiff/' + core + '_DepthDiff.txt'\n",
    "# PathIso = '/home/thea/Documents/KUFysik/MesterTesen/Data/datasets/Alphabet_cores/Alphabetd18O/'+core+'_det.txt'\n",
    "#\n",
    "# DelimIso = ','\n",
    "# DelimOut = '\\t'\n",
    "# DelimDens = '\\t'\n",
    "#\n",
    "# GetDiffProfile(site_in=core, path_outFile=PathOut, delim_outFile=DelimOut, path_densMeas=PathDens, delim_densMeas=DelimDens, path_isoMeas=PathIso, delim_isoMeas=DelimIso)\n",
    "\n",
    "\n",
    "\n",
    "    sigma_o17_num = []\n",
    "    sigma_o18_num = []\n",
    "    sigma_D_num = []\n",
    "\n",
    "    herron_model = HL_Thea(Temp_0 = temp, Acc_0 = accum, rho_0 = rho_surf, f0_init = f0, f1_init = f1).model(np.arange(0, z_final, dz))\n",
    "    rhos = 1000*herron_model['rhoHL']\n",
    "    depths = herron_model['z']\n",
    "\n",
    "    sigmaInst = DiffusionLength(P = P, rho_surf = rho_surf, f0 = f0, f1 = f1)\n",
    "\n",
    "#    for rho in rhos:\n",
    "#        sigma_all = sigmaInst.semi_analytical_HL(rho = rho, T = temp, accum = accum)\n",
    "#        sigma_o17_num = np.append(sigma_o17_num, sigma_all[2])\n",
    "#        sigma_o18_num = np.append(sigma_o18_num, sigma_all[1])\n",
    "#        sigma_D_num = np.append(sigma_D_num, sigma_all[0])\n",
    "\n",
    "    sigma_D_analyt, sigma_o18_analyt, sigma_o17_analyt = sigmaInst.analytical_HL(rhos, T = temp, accum = accum)\n",
    "\n",
    "\n",
    "\n",
    "\n",
    "\n",
    "\n",
    "\n",
    "def createDiffProfile():\n",
    "    return"
   ]
  },
  {
   "cell_type": "code",
   "execution_count": null,
   "metadata": {},
   "outputs": [],
   "source": []
  }
 ],
 "metadata": {
  "kernelspec": {
   "display_name": "Python 3",
   "language": "python",
   "name": "python3"
  },
  "language_info": {
   "codemirror_mode": {
    "name": "ipython",
    "version": 3
   },
   "file_extension": ".py",
   "mimetype": "text/x-python",
   "name": "python",
   "nbconvert_exporter": "python",
   "pygments_lexer": "ipython3",
   "version": "3.6.9"
  }
 },
 "nbformat": 4,
 "nbformat_minor": 2
}
