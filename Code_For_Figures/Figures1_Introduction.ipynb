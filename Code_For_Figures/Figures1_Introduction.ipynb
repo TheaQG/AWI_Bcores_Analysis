{
 "cells": [
  {
   "cell_type": "code",
   "execution_count": 77,
   "metadata": {},
   "outputs": [],
   "source": [
    "import numpy as np\n",
    "import os\n",
    "import pandas as pd\n",
    "from pandas import ExcelWriter\n",
    "import matplotlib.pyplot as plt\n",
    "import openpyxl\n",
    "import matplotlib as mpl\n",
    "import scipy as sp\n",
    "from scipy import stats\n",
    "from scipy import signal\n",
    "from scipy import fft\n",
    "from scipy import io\n",
    "from scipy import interpolate\n",
    "from scipy import optimize\n",
    "from scipy import linalg\n",
    "from scipy import integrate\n",
    "from scipy.fft import dct\n",
    "\n",
    "mpl.rcParams['text.usetex'] = True\n",
    "mpl.rcParams['text.latex.preamble'] = [\n",
    "    r'\\usepackage{textcomp}',\n",
    "    r'\\usepackage{wasysym}']\n",
    "mpl.rcParams['mathtext.fontset'] = 'stix'\n",
    "mpl.rcParams['font.size'] = 22\n",
    "mpl.rcParams['font.family'] = 'STIXGeneral'\n",
    "\n",
    "saveFigs = False\n",
    "\n"
   ]
  },
  {
   "cell_type": "code",
   "execution_count": 2,
   "metadata": {},
   "outputs": [],
   "source": [
    "import sys \n",
    "import os\n",
    "sys.path.append('../')\n",
    "sys.path.append('../../')\n",
    "\n",
    "from GetCoreData_fct import GetCoreData\n",
    "from BackDiffuse_LT import BackDiffuse\n",
    "\n",
    "\n",
    "from Interpolation_Class import Interpolation\n",
    "\n",
    "from HL_AnalyticThea_class import HL_Thea\n",
    "from DiffusionProfiles_calculations import DiffusionLength\n",
    "\n",
    "from sigmaSolver import sigma_Solver\n",
    "\n"
   ]
  },
  {
   "cell_type": "code",
   "execution_count": 10,
   "metadata": {},
   "outputs": [
    {
     "name": "stdout",
     "output_type": "stream",
     "text": [
      "No ECM file found, setting empty df instead\n"
     ]
    }
   ],
   "source": [
    "sites = ['B19','B22','B23','SiteA', 'SiteB', 'SiteD', 'SiteE', 'SiteG', 'Crete']\n",
    "N_InInts = [33, 33, 33, 33, 33, 33]\n",
    "Nt_InInts = [33, 33, 33, 33, 33, 33]\n",
    "\n",
    "j = -1\n",
    "\n",
    "site = sites[j]\n",
    "N_InInt = N_InInts[j]\n",
    "\n",
    "N_InInt_test = 33\n",
    "\n",
    "CoresSpecs = pd.read_csv('/home/thea/Documents/KUFysik/MesterTesen/Data/CoreSpecs.txt', ',')\n",
    "\n",
    "coreNames = CoresSpecs['CoreName']\n",
    "\n",
    "\n",
    "core_idx = coreNames[CoresSpecs['CoreName'] == site].index[0]\n",
    "CoreSpecs = CoresSpecs.iloc[core_idx]\n",
    "dTamb = CoreSpecs['dTamb']\n",
    "dLaki = CoreSpecs['dLaki']\n",
    "accum0 = CoreSpecs['Accum0']\n",
    "accumIE = CoreSpecs['Accum1']\n",
    "Temp0 = CoreSpecs['T0']\n",
    "\n",
    "DataAll = GetCoreData(site, 'Alphabet') #'AWI_Bcores'\n",
    "\n",
    "data_d18O = DataAll[0]; data_d18O_LT = DataAll[1]\n",
    "data_ECM = DataAll[2]; data_ECM_LT = DataAll[3]\n",
    "data_dens = DataAll[4]; data_dens_LT = DataAll[5]\n",
    "data_diff = DataAll[6]; data_diff_LT = DataAll[7]\n",
    "\n",
    "\n",
    "depth = data_d18O['depth'][1:]\n",
    "d18O = data_d18O['d18O'][1:]\n",
    "depth_LT = data_d18O_LT['depth']\n",
    "d18O_LT = data_d18O_LT['d18O']\n",
    "dataAll = pd.DataFrame({'depth':depth_LT,'d18O':d18O_LT}, index=None)\n",
    "\n",
    "depthECM = data_ECM['depth']\n",
    "ECM = data_ECM['ECM']\n",
    "depthECM_LT = data_ECM_LT['depth']\n",
    "ECM_LT = data_ECM_LT['ECM']\n"
   ]
  },
  {
   "cell_type": "markdown",
   "metadata": {},
   "source": [
    "# Crete core, 10m dated, as from https://www.iceandclimate.nbi.ku.dk/research/strat_dating/annual_layer_count/ice_core_dating/"
   ]
  },
  {
   "cell_type": "code",
   "execution_count": 79,
   "metadata": {
    "scrolled": true
   },
   "outputs": [
    {
     "data": {
      "image/png": "[encoded data removed]",
      "text/plain": [
       "<matplotlib.figure.Figure at 0x7f471ccafe80>"
      ]
     },
     "metadata": {
      "needs_background": "light"
     },
     "output_type": "display_data"
    }
   ],
   "source": [
    "top_min = 10\n",
    "top_max = 20\n",
    "depth_top = np.asarray(depth[(depth > top_min) & (depth < top_max)])\n",
    "d18O_top = np.asarray(d18O[(depth > top_min) & (depth < top_max)])\n",
    "troughs = signal.find_peaks(-d18O_top, distance=7)[0]\n",
    "yrs = np.linspace(1956,1939,1956-1939+1, dtype=int)\n",
    "xs = depth_top[troughs][:-1] + np.diff(depth_top[troughs])/2\n",
    "\n",
    "fig, ax = plt.subplots(figsize=(18,5))\n",
    "\n",
    "ax.step(depth_top,d18O_top, lw=1.2, c='k')\n",
    "ax.set(xlim=(top_min,top_max), ylabel='$\\delta^{18}$O [\\permil]', xlabel='Depth [m]', ylim=(min(d18O_top)-1, max(d18O_top)+2));\n",
    "\n",
    "for i in range(len(troughs)):\n",
    "    ax.axvline(depth_top[troughs[i]], c='k', ls='--', lw=1)\n",
    "    if i < len(yrs):\n",
    "        ax.text(xs[i],-27.5, yrs[i], fontsize=18, ha='center')\n",
    "\n",
    "fig.tight_layout()\n",
    "\n",
    "\n",
    "if saveFigs:\n",
    "    fig.savefig('../../WrittenWork/Figures/'+'Crete_10m_dated.png', bbox_inches='tight')"
   ]
  },
  {
   "cell_type": "markdown",
   "metadata": {},
   "source": []
  }
 ],
 "metadata": {
  "kernelspec": {
   "display_name": "Python 3",
   "language": "python",
   "name": "python3"
  },
  "language_info": {
   "codemirror_mode": {
    "name": "ipython",
    "version": 3
   },
   "file_extension": ".py",
   "mimetype": "text/x-python",
   "name": "python",
   "nbconvert_exporter": "python",
   "pygments_lexer": "ipython3",
   "version": "3.8.5"
  }
 },
 "nbformat": 4,
 "nbformat_minor": 2
}
