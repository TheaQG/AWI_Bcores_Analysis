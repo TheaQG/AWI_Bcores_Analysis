{
 "cells": [
  {
   "cell_type": "code",
   "execution_count": 1,
   "metadata": {},
   "outputs": [],
   "source": [
    "import numpy as np\n",
    "import os\n",
    "import pandas as pd\n",
    "from pandas import ExcelWriter\n",
    "import matplotlib.pyplot as plt\n",
    "import openpyxl\n",
    "#%matplotlib notebook\n",
    "\n",
    "import matplotlib as mpl\n",
    "mpl.rcParams['mathtext.fontset'] = 'stix'\n",
    "mpl.rcParams['font.size'] = 22\n",
    "mpl.rcParams['font.family'] = 'STIXGeneral'\n",
    "\n",
    "from Cores import Cores"
   ]
  },
  {
   "cell_type": "code",
   "execution_count": null,
   "metadata": {},
   "outputs": [],
   "source": [
    "coreNames = ['B16', 'B17','B18','B19','B20','B21','B22','B23','B26','B27','B28','B29','B30']\n",
    "DEPy = [False,False,True,True,True,False,True,True,False,False,False,False,False]\n",
    "ECMy = [True,False,True,False,False,True,False,False,False,False,False,False,False]\n",
    "idx = [0,2,3,4,5,6,7]\n",
    "DEP_Names = ['B18','B19','B20','B22','B23']\n",
    "ECM_Names = ['B16','B18','B21']\n",
    "ECM_DEPCores = []\n",
    "\n",
    "for i in idx:\n",
    "    coreName = coreNames[i]\n",
    "    dens = pd.read_excel('DepthDensity_Bcores_lowRes.xlsx', sheet_name=coreName, index=False)\n",
    "    d18O = pd.read_excel('Depth_d18O__Bcores.xlsx', sheet_name=coreName, index=False)\n",
    "    \n",
    "    if DEPy[i]:\n",
    "        DEP = pd.read_excel('DepthDEP__BcoresClean.xlsx', sheet_name=coreName, index=False)\n",
    "    else:\n",
    "        DEP = []\n",
    "    \n",
    "    if ECMy[i]:\n",
    "        ECM = pd.read_excel('DepthECM__B16_B18_B21.xlsx', sheet_name=coreName, index=False)\n",
    "    else:\n",
    "        ECM = []\n",
    "    \n",
    "    volcWE = np.asarray(pd.read_excel('VolcanicEruptions__WE_Depth.xlsx', 'Sheet1', usecols=[coreName]))\n",
    "    ECM_DEPCores.append(Cores(name=coreName, df_dens=dens, df_d18O = d18O, df_ECM = ECM, df_DEP = DEP, volcWE = volcWE))\n",
    "\n",
    "    \n",
    "#coreName = 'B21'\n",
    "#name1 = coreName\n",
    "#df_dens1 = pd.read_excel('DepthDensity_Bcores_lowRes.xlsx', sheet_name=coreName, index=False)\n",
    "#df_d18O1 = pd.read_excel('Depth_d18O__Bcores.xlsx', sheet_name=coreName, index=False)\n",
    "#df_ECM1 = pd.read_excel('DepthECM__B16_B18_B21.xlsx', sheet_name=coreName, index=False)\n",
    "#df_DEP1 = []#pd.read_excel('DepthDEP__BcoresClean.xlsx', sheet_name=coreName, index=False)\n",
    "#volcWE1 = np.asarray(pd.read_excel('VolcanicEruptions__WE_Depth.xlsx', 'Sheet1', usecols=[coreName]))"
   ]
  },
  {
   "cell_type": "code",
   "execution_count": null,
   "metadata": {},
   "outputs": [],
   "source": [
    "all_dfCores_LakiTambora = []\n",
    "all_dfCoresPlot = []\n",
    "for i in range(len(ECM_DEPCores)):\n",
    "    all_dfCores_LakiTambora.append(ECM_DEPCores[i].getData_LakiToTambora(saveFig=True))\n",
    "    all_dfCoresPlot.append(ECM_DEPCores[i].plotCore(plotFig=False,saveFig=False))\n",
    "    "
   ]
  },
  {
   "cell_type": "code",
   "execution_count": null,
   "metadata": {},
   "outputs": [],
   "source": []
  }
 ],
 "metadata": {
  "kernelspec": {
   "display_name": "Python 3",
   "language": "python",
   "name": "python3"
  },
  "language_info": {
   "codemirror_mode": {
    "name": "ipython",
    "version": 3
   },
   "file_extension": ".py",
   "mimetype": "text/x-python",
   "name": "python",
   "nbconvert_exporter": "python",
   "pygments_lexer": "ipython3",
   "version": "3.6.9"
  }
 },
 "nbformat": 4,
 "nbformat_minor": 2
}
