{
 "cells": [
  {
   "cell_type": "code",
   "execution_count": 13,
   "metadata": {},
   "outputs": [],
   "source": [
    "import numpy as np\n",
    "import pandas as pd\n",
    "import matplotlib.pyplot as plt\n",
    "from pandas import ExcelWriter\n",
    "import openpyxl\n",
    "import scipy as sp\n",
    "from scipy import stats\n",
    "from scipy import signal\n",
    "from scipy import fft\n",
    "from scipy import io\n",
    "from scipy import interpolate\n",
    "from scipy import optimize\n",
    "from scipy import linalg\n",
    "from scipy import integrate\n",
    "\n",
    "\n",
    "import openpyxl\n",
    "import matplotlib as mpl\n",
    "\n",
    "mpl.rcParams['text.usetex'] = True\n",
    "mpl.rcParams['text.latex.preamble'] = [\n",
    "    r'\\usepackage{textcomp}',\n",
    "    r'\\usepackage{wasysym}']\n",
    "mpl.rcParams['mathtext.fontset'] = 'stix'\n",
    "mpl.rcParams['font.size'] = 22\n",
    "mpl.rcParams['font.family'] = 'STIXGeneral'\n",
    "import copy"
   ]
  },
  {
   "cell_type": "code",
   "execution_count": 48,
   "metadata": {},
   "outputs": [],
   "source": [
    "\n",
    "class StepModel(object):\n",
    "    \"\"\"\n",
    "\n",
    "    \"\"\"\n",
    "\n",
    "    def __init__(self):\n",
    "        \"\"\"\n",
    "\n",
    "        \"\"\"\n",
    "        return\n",
    "\n",
    "\n",
    "\n",
    "    def scaled_cdf(self, x, a, b, mu, sigma):\n",
    "        \"\"\"\n",
    "        Returns a scaled and shifted version of the normal cdf\n",
    "        \"\"\"\n",
    "\n",
    "        return [a*sp.stats.norm.cdf(x, loc = mu, scale = sigma) + b, \\\n",
    "        sp.stats.norm.pdf(x, loc = mu, scale = sigma)]\n",
    "\n",
    "\n",
    "\n",
    "    def scaled_lognormcdf(self, x, a, b, mu, sigma):\n",
    "        \"\"\"\n",
    "        Returns a scaled and shifted version of the lognormal cdf\n",
    "        \"\"\"\n",
    "        return a*sp.stats.lognorm.cdf(x, 1, loc = mu, scale = sigma) + b,\\\n",
    "        a*sp.stats.lognorm.pdf(x, 1, loc = mu, scale = sigma) + b\n",
    "\n",
    "\n",
    "\n",
    "    def log_product(self, x, a, b, mu, shape1, shape2, sigma1, sigma2):\n",
    "        \"\"\"\n",
    "        Returns a scaled and shifted version of the product of two lognormal cdf's\n",
    "        \"\"\"\n",
    "        dx = x[1] - x[0]\n",
    "        f1 = stats.lognorm.cdf(x, shape1, loc = mu, scale = sigma1)\n",
    "        f2 = stats.lognorm.cdf(x, shape2, loc = mu, scale = sigma2)\n",
    "\n",
    "        return a*(f1*f2) + b, np.gradient(f1*f2, dx)\n",
    "\n",
    "\n",
    "    def fit_log_norm_product(self, x, y, p_ini = [1., 1., 1., 1., 1., 1., 1.]):\n",
    "        \"\"\"\n",
    "\n",
    "        \"\"\"\n",
    "        p_opt = sp.optimize.curve_fit(self.log_product, x, y, p0 = p_ini, maxfev = 3000)[0]\n",
    "        print(p_opt)\n",
    "        model = self.log_product(x, p_opt[0], p_opt[1], p_opt[2], p_opt[3], p_opt[4], p_opt[5], p_opt[6])\n",
    "\n",
    "        return model, p_opt\n",
    "\n",
    "\n",
    "\n",
    "    def fit_lognorm(self, x, y, p_ini = [1., 1., 1., 1.]):\n",
    "        \"\"\"\n",
    "        fits a lognorm cdf on some input data x, y\n",
    "        \"\"\"\n",
    "        p_opt = sp.optimize.curve_fit(self.scaled_lognormcdf, x, y, p0 = p_ini)[0]\n",
    "        print(p_opt)\n",
    "        model = self.scaled_lognormcdf(x, p_opt[0], p_opt[1], p_opt[2], p_opt[3])\n",
    "\n",
    "        return model, p_opt\n",
    "\n",
    "\n",
    "    def transfer_function(self, x, y, c1 = None):\n",
    "        \"\"\"\n",
    "\n",
    "        \"\"\"\n",
    "\n",
    "        if c1 == None:\n",
    "            c1 = y[-1] - y[0]\n",
    "            print(c1)\n",
    "\n",
    "        N = 65536\n",
    "        dx = x[1] - x[0]\n",
    "        dydx = np.gradient(y, dx)\n",
    "\n",
    "        impulse_response = dydx/c1\n",
    "        transfer_function = np.fft.rfft(dydx, n = N)/c1\n",
    "        freq = np.fft.rfftfreq(N, dx)\n",
    "\n",
    "        return freq, transfer_function*dx\n",
    "\n",
    "    def response(self, x, y, c1 = None, view = True):\n",
    "        \"\"\"\n",
    "\n",
    "        \"\"\"\n",
    "        if c1 == None:\n",
    "            c1 = y[-1] - y[0]\n",
    "            print(c1)\n",
    "\n",
    "        N = 65536\n",
    "        dx = x[1] - x[0]\n",
    "        dydx = np.gradient(y, dx)\n",
    "\n",
    "        impulse_response = dydx/c1\n",
    "        transfer_function = np.fft.fft(dydx, n = N)/c1\n",
    "        freq = np.fft.fftfreq(N, dx)[:int(N/2)]\n",
    "\n",
    "        amp_response = np.abs(transfer_function*dx)[:int(N/2)]\n",
    "        phase_response = np.angle(transfer_function, deg = True)[:int(N/2)]\n",
    "        print(phase_response)\n",
    "\n",
    "\n",
    "\n",
    "        if view == True:\n",
    "            plt.ion()\n",
    "            plt.figure(211)\n",
    "            plt.clf()\n",
    "            plt.subplot(311)\n",
    "            plt.grid(True)\n",
    "            plt.plot(x, y)\n",
    "            plt.subplot(312)\n",
    "            plt.grid(True)\n",
    "            plt.plot(x, impulse_response)\n",
    "            plt.subplot(313)\n",
    "            plt.grid(True)\n",
    "            plt.loglog(freq, amp_response)\n",
    "            # plt.subplot(414)\n",
    "            # plt.grid(True)\n",
    "            # plt.loglog(freq, phase_response)\n",
    "\n",
    "        return freq, amp_response, phase_response\n",
    "\n",
    "\n",
    "    def response1(self, x, y_pdf, c1 = None, view = True):\n",
    "        \"\"\"\n",
    "\n",
    "        \"\"\"\n",
    "\n",
    "        N = 65536\n",
    "        dx = x[1] - x[0]\n",
    "        transfer_function = np.fft.fft(y_pdf, n = N)*dx\n",
    "        freq = np.fft.fftfreq(N, dx)[:int(N/2)]\n",
    "\n",
    "        amp_response = np.abs(transfer_function)[:int(N/2)]\n",
    "        phase_response = np.angle(transfer_function, deg = True)[:int(N/2)]\n",
    "        print(phase_response)\n",
    "\n",
    "\n",
    "\n",
    "        if view == True:\n",
    "            plt.ion()\n",
    "            plt.figure(211)\n",
    "            plt.clf()\n",
    "            plt.subplot(211)\n",
    "            plt.grid(True)\n",
    "            plt.plot(x, y_pdf)\n",
    "            plt.subplot(212)\n",
    "            plt.grid(True)\n",
    "            plt.loglog(freq, amp_response)\n",
    "            # plt.subplot(414)\n",
    "            # plt.grid(True)\n",
    "            # plt.loglog(freq, phase_response)\n",
    "\n",
    "        return freq, amp_response, phase_response\n"
   ]
  },
  {
   "cell_type": "code",
   "execution_count": 49,
   "metadata": {},
   "outputs": [],
   "source": [
    "x = np.linspace(-200,200,5000)\n",
    "SM_inst = StepModel()\n",
    "\n",
    "y1, y2 = SM_inst.scaled_cdf(x, 40, -250, 0, 12)\n",
    "y3, y4 = SM_inst.scaled_lognormcdf(x, 40, -250, 0, 12)"
   ]
  },
  {
   "cell_type": "code",
   "execution_count": 50,
   "metadata": {},
   "outputs": [
    {
     "data": {
      "text/plain": [
       "[<matplotlib.lines.Line2D at 0x7f46ad80b828>]"
      ]
     },
     "execution_count": 50,
     "metadata": {},
     "output_type": "execute_result"
    },
    {
     "data": {
      "image/png": "[encoded data removed]",
      "text/plain": [
       "<matplotlib.figure.Figure at 0x7f46ad82ef98>"
      ]
     },
     "metadata": {
      "needs_background": "light"
     },
     "output_type": "display_data"
    }
   ],
   "source": [
    "plt.semilogx(x,y3)"
   ]
  },
  {
   "cell_type": "code",
   "execution_count": 51,
   "metadata": {},
   "outputs": [
    {
     "data": {
      "text/plain": [
       "[<matplotlib.lines.Line2D at 0x7f46ad7044a8>]"
      ]
     },
     "execution_count": 51,
     "metadata": {},
     "output_type": "execute_result"
    },
    {
     "data": {
      "image/png": "[encoded data removed]",
      "text/plain": [
       "<matplotlib.figure.Figure at 0x7f46ad6f3630>"
      ]
     },
     "metadata": {
      "needs_background": "light"
     },
     "output_type": "display_data"
    }
   ],
   "source": [
    "plt.semilogx(x,y4)"
   ]
  },
  {
   "cell_type": "code",
   "execution_count": 62,
   "metadata": {},
   "outputs": [
    {
     "name": "stdout",
     "output_type": "stream",
     "text": [
      "40.0\n"
     ]
    },
    {
     "data": {
      "text/plain": [
       "[<matplotlib.lines.Line2D at 0x7f46acffc518>]"
      ]
     },
     "execution_count": 62,
     "metadata": {},
     "output_type": "execute_result"
    },
    {
     "data": {
      "image/png": "[encoded data removed]",
      "text/plain": [
       "<matplotlib.figure.Figure at 0x7f46ad0f6390>"
      ]
     },
     "metadata": {
      "needs_background": "light"
     },
     "output_type": "display_data"
    }
   ],
   "source": [
    "dt = x[1] - x[0]\n",
    "t1,t2 =SM_inst.transfer_function(x,y1)\n",
    "plt.loglog(t1[:-1],np.angle(t2,deg=True)[:int(65536/2)])"
   ]
  },
  {
   "cell_type": "code",
   "execution_count": 61,
   "metadata": {},
   "outputs": [
    {
     "data": {
      "text/plain": [
       "array([  0.        , -13.73016357, -27.46032715, ...,   0.        ,\n",
       "       180.        ,   0.        ])"
      ]
     },
     "execution_count": 61,
     "metadata": {},
     "output_type": "execute_result"
    }
   ],
   "source": [
    "np.angle(t2, deg=True)"
   ]
  },
  {
   "cell_type": "code",
   "execution_count": null,
   "metadata": {},
   "outputs": [],
   "source": []
  }
 ],
 "metadata": {
  "kernelspec": {
   "display_name": "Python 3",
   "language": "python",
   "name": "python3"
  },
  "language_info": {
   "codemirror_mode": {
    "name": "ipython",
    "version": 3
   },
   "file_extension": ".py",
   "mimetype": "text/x-python",
   "name": "python",
   "nbconvert_exporter": "python",
   "pygments_lexer": "ipython3",
   "version": "3.6.9"
  }
 },
 "nbformat": 4,
 "nbformat_minor": 2
}
