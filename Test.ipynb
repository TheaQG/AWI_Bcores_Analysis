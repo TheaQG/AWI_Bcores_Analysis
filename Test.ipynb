{
 "cells": [
  {
   "cell_type": "code",
   "execution_count": 72,
   "metadata": {},
   "outputs": [],
   "source": [
    "import numpy as np\n",
    "import pandas as pd\n",
    "import matplotlib.pyplot as plt\n",
    "from pandas import ExcelWriter\n",
    "import openpyxl\n",
    "\n",
    "import openpyxl\n",
    "import matplotlib as mpl\n",
    "\n",
    "mpl.rcParams['text.usetex'] = True\n",
    "mpl.rcParams['text.latex.preamble'] = [\n",
    "    r'\\usepackage{textcomp}',\n",
    "    r'\\usepackage{wasysym}']\n",
    "mpl.rcParams['mathtext.fontset'] = 'stix'\n",
    "mpl.rcParams['font.size'] = 22\n",
    "mpl.rcParams['font.family'] = 'STIXGeneral'\n",
    "import copy"
   ]
  },
  {
   "cell_type": "code",
   "execution_count": 68,
   "metadata": {},
   "outputs": [],
   "source": [
    "'''\n",
    "    Define function to compute density from ice and w.e. depths\n",
    "'''\n",
    "def calc_dens(path, filename):\n",
    "#    data = np.genfromtxt(path + filename, delimiter='\\t', skip_header=16, names=True, dtype={'names': ('Age [ka BP]', 'Age [a AD]', 'Depth ice/snow [m]', 'Depth w.e. top [m]', 'Acc rate ice [kg/m**2/a]', 'δ18O H2O [‰ SMOW]'),\n",
    "#          'formats': (np.float, np.float, np.float, np.float, np.float, np.float)},)\n",
    "    data = np.genfromtxt(path + filename, delimiter='\\t', skip_header=17)\n",
    "    \n",
    "#    names = data.dtype.names\n",
    "    #np.shape(data))\n",
    "    depthIce = data[:,2]\n",
    "    deltaDepthIce = np.diff(depthIce)\n",
    "    \n",
    "    depthWE = data[:,3]\n",
    "    deltaDepthWE = np.diff(depthWE)\n",
    "\n",
    "    dens = deltaDepthWE / deltaDepthIce\n",
    "    d18O = data[:,5]\n",
    "    #print(depthIce, deltaDepthIce)\n",
    "    return depthIce, depthWE, d18O\n"
   ]
  },
  {
   "cell_type": "code",
   "execution_count": 69,
   "metadata": {},
   "outputs": [],
   "source": [
    "'''\n",
    "    Use above function to calculate densities for all B-cores.\n",
    "'''\n",
    "\n",
    "#dens = []\n",
    "path = \"../Data/datasets/B_cores_AWI/Densities/\"\n",
    "filename = \"B16_2_acc_rate_d18O.tab\"#, \"B17_2_acc_rate_d18O.tab\", \"B18_2_acc_rate_d18O.tab\", \"B19_2_acc_rate_d18O.tab\", \"B20_2_acc_rate_d18O.tab\", \"B21_2_acc_rate_d18O.tab\", \"B22_2_acc_rate_d18O.tab\",\n",
    "            #\"B23_2_acc_rate_d18O.tab\", \"B26_2_acc_rate_d18O.tab\", \"B27_2_acc_rate_d18O.tab\", \"B28_3_acc_rate_d18O.tab\", \"B29_2_acc_rate_d18O.tab\", \"B30_2_acc_rate_d18O.tab\"]\n",
    "#filenames = [\"B16_2_acc_rate_d18O.tab\", \"B17_2_acc_rate_d18O.tab\", \"B18_2_acc_rate_d18O.tab\", \"B21_2_acc_rate_d18O.tab\"]\n",
    "filenames_chosen = filenames_all\n",
    "\n",
    "#for file in filenames_chosen:\n",
    "#    dens.append(calc_dens(path, file))\n",
    "dens = calc_dens(path,filename)"
   ]
  },
  {
   "cell_type": "code",
   "execution_count": 85,
   "metadata": {},
   "outputs": [
    {
     "data": {
      "text/plain": [
       "[<matplotlib.lines.Line2D at 0x7f67b1433a20>]"
      ]
     },
     "execution_count": 85,
     "metadata": {},
     "output_type": "execute_result"
    },
    {
     "data": {
      "image/png": "[encoded data removed]",
      "text/plain": [
       "<matplotlib.figure.Figure at 0x7f67b14709b0>"
      ]
     },
     "metadata": {
      "needs_background": "light"
     },
     "output_type": "display_data"
    }
   ],
   "source": [
    "d = copy.deepcopy(dens[0])\n",
    "d[1:] = np.diff(dens[1])/np.diff(dens[0])\n",
    "d[0] = d[1] \n",
    "#print(d)\n",
    "\n",
    "fig, ax = plt.subplots(figsize=(8,10))\n",
    "ax.invert_yaxis()\n",
    "ax.plot(d, dens[0],'.')"
   ]
  },
  {
   "cell_type": "code",
   "execution_count": 86,
   "metadata": {},
   "outputs": [
    {
     "name": "stdout",
     "output_type": "stream",
     "text": [
      "[0.27272727 0.27272727 0.2745098  0.28571429 0.32608696 0.31818182\n",
      " 0.33333333 0.36585366 0.35897436 0.35897436 0.40540541 0.37837838\n",
      " 0.38888889 0.42857143 0.37837838 0.23333333 0.42424242 0.28846154\n",
      " 0.42424242 0.4375     0.46875    0.46666667 0.4516129  0.5\n",
      " 0.4516129  0.46666667 0.51724138 0.48275862 0.48275862 0.51724138\n",
      " 0.48275862 0.5        0.53571429 0.5        0.5        0.53571429\n",
      " 0.51851852 0.51851852 0.55555556 0.51851852 0.51851852 0.57692308\n",
      " 0.51851852 0.53846154 0.55555556 0.53846154 0.53846154 0.6\n",
      " 0.53846154 0.56       0.53846154 0.6        0.56       0.56\n",
      " 0.6        0.56       0.56       0.625      0.56       0.58333333\n",
      " 0.6        0.58333333 0.58333333 0.625      0.60869565 0.58333333\n",
      " 0.625      0.58333333 0.60869565 0.625      0.58333333 0.58333333\n",
      " 0.65217391 0.60869565 0.58333333 0.65217391 0.60869565 0.60869565\n",
      " 0.6        0.60869565 0.60869565 0.66666667 0.59090909 0.61904762\n",
      " 0.66666667 0.61904762 0.66666667 0.61904762 0.66666667 0.61904762\n",
      " 0.61904762 0.7        0.61904762 0.7        0.61904762 0.66666667\n",
      " 0.41935484 0.65       0.66666667 0.65       0.66666667 0.65\n",
      " 0.7        0.65       0.61904762 0.7        0.65       0.7\n",
      " 0.65       0.7        0.65       0.65       0.7        0.65\n",
      " 0.7        0.68421053 0.7        0.65       0.65       0.73684211\n",
      " 0.65       0.7        0.68421053 0.7        0.68421053 0.68421053\n",
      " 0.7        0.68421053 0.7        0.68421053 0.73684211 0.68421053\n",
      " 0.65       0.73684211 0.68421053 0.73684211 0.68421053 0.73684211\n",
      " 0.68421053 0.68421053 0.73684211 0.68421053 0.73684211 0.68421053\n",
      " 0.73684211 0.68421053 0.72222222 0.73684211 0.68421053 0.73684211\n",
      " 0.68421053 0.77777778 0.68421053 0.68421053 0.77777778 0.68421053\n",
      " 0.73684211 0.72222222 0.73684211 0.68421053 0.72222222 0.73684211\n",
      " 0.72222222 0.73684211 0.72222222 0.77777778 0.68421053 0.72222222\n",
      " 0.77777778 0.68421053 0.77777778 0.72222222 0.72222222 0.73684211\n",
      " 0.72222222 1.27272727 2.16666667 2.5        1.25       1.\n",
      " 0.68181818 0.9375     0.88235294 0.7        0.625      0.68181818\n",
      " 0.88235294 0.875      0.78947368 0.625      0.2238806  0.7\n",
      " 0.78947368 1.15384615 0.83333333 0.58333333 0.625      0.78947368\n",
      " 0.78947368 0.7        0.78947368 0.75       0.78947368 0.73684211\n",
      " 0.75       0.78947368 0.78947368 0.78947368 0.7        0.78947368\n",
      " 0.77777778 0.77777778 0.73684211 0.77777778 0.77777778 0.77777778\n",
      " 0.77777778 0.77777778 0.77777778 0.77777778 0.77777778 0.73684211\n",
      " 0.82352941 0.77777778 0.77777778 0.73684211 0.77777778 0.82352941\n",
      " 0.77777778 0.77777778 0.77777778 0.77777778 0.77777778 0.77777778\n",
      " 0.77777778 0.82352941 0.77777778 0.77777778 0.77777778 0.82352941\n",
      " 0.77777778 0.77777778 0.77777778 0.77777778 0.82352941 0.77777778\n",
      " 0.82352941 0.77777778 0.77777778 0.82352941 0.77777778 0.77777778\n",
      " 0.82352941 0.77777778 0.77777778 0.78947368 0.83333333 0.73684211\n",
      " 0.83333333 0.83333333 0.73684211 0.83333333 0.83333333 0.77777778\n",
      " 1.15384615 1.         0.7        0.6        0.78947368 0.77777778\n",
      " 0.83333333 0.83333333 0.82352941 0.83333333 0.78947368 0.77777778\n",
      " 0.83333333 0.83333333 0.77777778 0.83333333 0.83333333 0.77777778\n",
      " 0.83333333 0.83333333 0.77777778 0.83333333 0.83333333 0.77777778\n",
      " 0.83333333 0.83333333 0.77777778 0.83333333 0.83333333 0.77777778\n",
      " 0.83333333 0.83333333 0.82352941 0.83333333 0.83333333 0.77777778\n",
      " 0.83333333 0.83333333 0.82352941 0.83333333 0.83333333 0.77777778\n",
      " 0.88235294 0.83333333 0.77777778 0.83333333 0.88235294 0.77777778\n",
      " 0.83333333 0.88235294 0.77777778 0.83333333 0.88235294 0.77777778\n",
      " 0.83333333 0.88235294 0.77777778 0.83333333 0.88235294 0.77777778\n",
      " 0.88235294 0.83333333 0.82352941 0.82352941 0.88235294 0.82352941\n",
      " 0.82352941 0.82352941 0.82352941 0.82352941 0.82352941 0.9375\n",
      " 0.82352941 0.82352941 0.82352941 0.82352941 0.82352941 0.875\n",
      " 0.88235294 0.82352941 0.82352941 0.875      0.82352941 0.82352941\n",
      " 0.88235294 0.875      0.82352941 0.82352941 0.82352941 0.875\n",
      " 0.82352941 0.88235294 0.875      0.82352941 0.82352941 0.875\n",
      " 0.82352941 0.82352941 0.9375     0.82352941 0.875      0.875\n",
      " 0.82352941 0.82352941 0.9375     0.82352941 0.82352941 0.875\n",
      " 0.82352941 0.875      0.82352941 0.9375     0.82352941 0.875\n",
      " 0.82352941 0.875      0.82352941 0.875      0.88235294 0.875\n",
      " 0.82352941 0.875      0.82352941 0.875      0.88235294 0.875\n",
      " 0.875      0.82352941 0.875      0.82352941 0.875      0.9375\n",
      " 0.82352941 0.875      0.875      0.82352941 0.875      0.82352941\n",
      " 0.9375     0.875      0.875      0.82352941 0.875      0.875\n",
      " 0.88235294 0.875      0.875      0.875      0.82352941 0.875\n",
      " 0.875      0.9375     0.82352941 0.875      0.875      0.875\n",
      " 0.82352941 0.875      0.9375     0.875      0.875      0.875\n",
      " 0.82352941 0.875      0.9375     0.875      0.875      0.875\n",
      " 0.82352941 0.875      0.875      0.9375     0.875      0.875\n",
      " 0.875      0.875      0.82352941 0.875      0.9375     0.875\n",
      " 0.875      0.875      0.875      0.875      0.9375     0.875\n",
      " 0.875      0.875      0.875      0.875      0.875      0.9375\n",
      " 0.875      0.875      0.875      0.875      0.875      0.875\n",
      " 0.9375     0.875      0.875      0.875      0.875      0.875\n",
      " 0.9375     0.93333333 0.875      0.875      0.875      0.875\n",
      " 0.875      0.9375     0.875      0.875      0.93333333 0.875\n",
      " 0.875      0.875      0.9375     0.875      0.875      0.93333333\n",
      " 0.875      0.875      0.9375     0.875      0.875      0.93333333\n",
      " 0.875      0.875      0.875      1.         0.875      0.875\n",
      " 0.875      0.875      0.93333333 0.875      0.9375     0.875\n",
      " 0.93333333 0.875      0.875      0.875      1.         0.875\n",
      " 0.875      0.93333333 0.875      0.875      0.93333333 0.9375\n",
      " 0.875      0.875      0.93333333 0.875      0.875      0.93333333\n",
      " 0.9375    ]\n"
     ]
    }
   ],
   "source": [
    "print(d)"
   ]
  },
  {
   "cell_type": "code",
   "execution_count": 45,
   "metadata": {},
   "outputs": [
    {
     "data": {
      "text/plain": [
       "522"
      ]
     },
     "execution_count": 45,
     "metadata": {},
     "output_type": "execute_result"
    }
   ],
   "source": [
    "len(dens[0][-1]/dens[0][-2])"
   ]
  },
  {
   "cell_type": "code",
   "execution_count": null,
   "metadata": {},
   "outputs": [],
   "source": []
  }
 ],
 "metadata": {
  "kernelspec": {
   "display_name": "Python 3",
   "language": "python",
   "name": "python3"
  },
  "language_info": {
   "codemirror_mode": {
    "name": "ipython",
    "version": 3
   },
   "file_extension": ".py",
   "mimetype": "text/x-python",
   "name": "python",
   "nbconvert_exporter": "python",
   "pygments_lexer": "ipython3",
   "version": "3.6.9"
  }
 },
 "nbformat": 4,
 "nbformat_minor": 2
}
