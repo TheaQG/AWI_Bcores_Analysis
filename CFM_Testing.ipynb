{
 "cells": [
  {
   "cell_type": "code",
   "execution_count": null,
   "metadata": {},
   "outputs": [],
   "source": [
    "import numpy as np\n",
    "import os\n",
    "import pandas as pd\n",
    "from pandas import ExcelWriter\n",
    "import matplotlib.pyplot as plt\n",
    "import openpyxl\n",
    "import matplotlib as mpl\n",
    "import scipy as sp\n",
    "from scipy import stats\n",
    "from scipy import signal\n",
    "from scipy import fft\n",
    "from scipy import io\n",
    "from scipy import interpolate\n",
    "from scipy import optimize\n",
    "from scipy import linalg\n",
    "from scipy import integrate\n",
    "from scipy.fft import dct\n",
    "from scipy import signal\n",
    "\n",
    "mpl.rcParams['text.usetex'] = True\n",
    "mpl.rcParams['text.latex.preamble'] = [\n",
    "    r'\\usepackage{textcomp}',\n",
    "    r'\\usepackage{wasysym}']\n",
    "mpl.rcParams['mathtext.fontset'] = 'stix'\n",
    "mpl.rcParams['font.size'] = 22\n",
    "mpl.rcParams['font.family'] = 'STIXGeneral'\n",
    "from BackDiffuse_LT import BackDiffuse\n",
    "\n",
    "\n",
    "showFigs=True"
   ]
  },
  {
   "cell_type": "code",
   "execution_count": null,
   "metadata": {},
   "outputs": [],
   "source": [
    "import h5py\n",
    "filename = '/home/thea/MesterTesen/CFM-thea/cfm_mytests/steady_state_test_results_temp/SiteA_test.hdf5' \n",
    "\n",
    "f = h5py.File(filename,'r')\n",
    "for key in f.keys():\n",
    "    print(key)\n",
    "    \n",
    "age = f['age'][()]\n",
    "depth = f['depth'][()]\n",
    "temperature = f['temperature'][()]\n",
    "Modelclimate = f['Modelclimate'][()]\n",
    "density = f['density'][()]\n",
    "#isotopes= f['isotopes'][()]\n",
    "iso_sigma18 = f['iso_sigma18'][()]\n",
    "iso_dsigma2_dt_18 = f['iso_dsigma2_dt_18'][()]\n",
    "drho_dt = f['drho_dt'][()]"
   ]
  },
  {
   "cell_type": "code",
   "execution_count": null,
   "metadata": {},
   "outputs": [],
   "source": [
    "fig, ax = plt.subplots()\n",
    "ax.plot(depth[-1][1:],drho_dt[-1][1:],'.-')\n",
    "#ax.set(ylim=(243,244.5))"
   ]
  },
  {
   "cell_type": "code",
   "execution_count": null,
   "metadata": {},
   "outputs": [],
   "source": [
    "ys_d18O_forcing_SiteA = np.hstack(np.array([np.arange(1891,1920),np.arange(1931,1960)]))-1985\n",
    "d18O_forcing_SiteA = np.hstack(np.array([-34.02*np.ones(1920-1891),-32.86*np.ones(1960-1931)]))\n",
    "\n",
    "d18O_forcing_SiteA_Full = np.asarray([ys_d18O_forcing_SiteA,d18O_forcing_SiteA])"
   ]
  },
  {
   "cell_type": "code",
   "execution_count": null,
   "metadata": {},
   "outputs": [],
   "source": [
    "\n",
    "\n",
    "ys_accum_forcing_SiteA = np.arange(1943,1973) - 1985\n",
    "accum_forcing_SiteA = 0.307 * np.ones(1973-1943)\n",
    "\n",
    "accum_forcing_SiteA_Full = np.asarray([ys_accum_forcing_SiteA,accum_forcing_SiteA])"
   ]
  },
  {
   "cell_type": "code",
   "execution_count": null,
   "metadata": {},
   "outputs": [],
   "source": [
    "ys_temp_forcing_SiteA = np.arange(1948,1985)-1985\n",
    "temp_forcing_SiteA = 29.41 * np.ones(1985-1948)+273.15\n",
    "\n",
    "temp_forcing_SiteA_Full = np.asarray([ys_temp_forcing_SiteA,temp_forcing_SiteA])"
   ]
  },
  {
   "cell_type": "code",
   "execution_count": null,
   "metadata": {},
   "outputs": [],
   "source": [
    "np.savetxt('/home/thea/MesterTesen/CFM-thea/cfm_mytests/cfm_my_forcings/temp_forcing_SiteA_TEST.csv',temp_forcing_SiteA_Full,delimiter=',')\n",
    "np.savetxt('/home/thea/MesterTesen//CFM-thea/cfm_mytests/cfm_my_forcings/accum_forcing_SiteA_TEST.csv',accum_forcing_SiteA_Full,delimiter=',')\n",
    "np.savetxt('/home/thea/MesterTesen/CFM-thea/cfm_mytests/cfm_my_forcings/d18O_forcing_SiteA_TEST.csv',d18O_forcing_SiteA_Full,delimiter=',')"
   ]
  },
  {
   "cell_type": "code",
   "execution_count": null,
   "metadata": {},
   "outputs": [],
   "source": [
    "d18O_forcing_SiteA_Full"
   ]
  },
  {
   "cell_type": "code",
   "execution_count": null,
   "metadata": {},
   "outputs": [],
   "source": [
    "test = pd.read_csv('/home/thea/MesterTesen/CFM-thea/cfm_mytests/cfm_my_forcings/accum_forcing_SiteA_TEST2.csv',',',header=None).transpose()"
   ]
  },
  {
   "cell_type": "code",
   "execution_count": null,
   "metadata": {},
   "outputs": [],
   "source": [
    "np.loadtxt('/home/thea/MesterTesen/CFM-thea/cfm_mytests/cfm_my_forcings/temp_forcing_SiteA_TEST.csv',delimiter=',')"
   ]
  }
 ],
 "metadata": {
  "kernelspec": {
   "display_name": "Python 3",
   "language": "python",
   "name": "python3"
  },
  "language_info": {
   "codemirror_mode": {
    "name": "ipython",
    "version": 3
   },
   "file_extension": ".py",
   "mimetype": "text/x-python",
   "name": "python",
   "nbconvert_exporter": "python",
   "pygments_lexer": "ipython3",
   "version": "3.6.9"
  }
 },
 "nbformat": 4,
 "nbformat_minor": 2
}
